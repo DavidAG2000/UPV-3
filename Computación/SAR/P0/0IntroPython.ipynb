{
 "cells": [
  {
   "cell_type": "markdown",
   "metadata": {
    "collapsed": true
   },
   "source": [
    "# Introducción a Python\n",
    "\n",
    "## Inicios de Python\n",
    "\n",
    "* Python (python.org) fue desarrollado por Guido Van Rossum en el centro de investigación CWI en Holanda.\n",
    "* Guido se basó en su trabajo anterior con el lenguaje ABC.\n",
    "\n",
    "\n",
    "## ¿Por qué se llama Python?\n",
    "\n",
    "Al mismo tiempo que comenzó a implementar Python, Guido van Rossum estaba leyendo los guiones de \"Monty Python's Flying Circus\" (una serie de comedia de los setenta, por si no la conoces). \n",
    "<img src=\"imgs/montypython03.jpg\">\n",
    "\n",
    "## Características de Python\n",
    "\n",
    "* Proyecto de código abierto, administrado por la Python Software Foundation\n",
    "\n",
    "* Multiplataforma\n",
    "\n",
    "* Python standard library (extensa librería de módulos) http://docs.python.org/3/library/index.html\n",
    "\n",
    "* Interpretado. Se compila un bytecode para una máquina virtual.\n",
    "\n",
    "* Orientado a objetos. Todo en Python es un objeto.\n",
    "\n",
    "* Sin declaración explicita de constantes ni variables.\n",
    "\n",
    "* De propósito general\n",
    "\n",
    "* Simple y Fácil de aprender :-) \n",
    "\n",
    "* Sintaxis clara\n",
    "\n",
    "* Extensible con C y C++ (SWIG, sip o Pyrex)‏\n",
    "\n",
    "* Empotrable en C y C++\n",
    "\n",
    "* Jython: Python dentro de una JVM\n",
    "\n",
    "* Interactivo \n",
    "\n",
    "* Mayor verificación de errores que C\n",
    "\n",
    "* Dos grandes ramas: Python 2.x y Python 3.x\n",
    "\n",
    "* Compatible hacia atrás dentro de la misma rama.\n",
    "\n",
    "* Elementos de C, Lisp, Modula-3\n",
    "\n",
    "* Facil creación de GUI (interfaz gráfica de usuario) con: Tk, GTK, QT, …\n",
    "\n",
    "* Lenguaje de macros de otras aplicaciones: OpenOffice/LibreOffice, Koffice, XMBC, …\n",
    "\n",
    "\n",
    "## ¿Quién utiliza Python?\n",
    "(https://www.python.org/about/success/)\n",
    "\n",
    "* Google (Guido van Rossum trabaja actualmente en Google)\n",
    "\n",
    "* Yahoo\n",
    "\n",
    "* NASA\n",
    "\n",
    "* Walt Disney\n",
    "\n",
    "* Industrial Light & Magic\n",
    "\n",
    "* Zope\n",
    "\n",
    "* ...\n",
    "\n",
    "\n"
   ]
  },
  {
   "cell_type": "markdown",
   "metadata": {
    "slideshow": {
     "slide_type": "-"
    }
   },
   "source": [
    "# Python interactivo: una estupenda calculadora"
   ]
  },
  {
   "cell_type": "raw",
   "metadata": {},
   "source": [
    "Python 3.4.3 |Anaconda 2.1.0 (64-bit)| (default, Jun  4 2015, 15:29:08) \n",
    "[GCC 4.4.7 20120313 (Red Hat 4.4.7-1)] on linux\n",
    "Type \"help\", \"copyright\", \"credits\" or \"license\" for more information.\n",
    "\n",
    "\n",
    ">>> 4+2\n",
    "6\n",
    ">>> 4*2\n",
    "8\n",
    ">>> 4**2\n",
    "16\n",
    ">>> \"4+2\"\n",
    "'4+2'\n",
    ">>> \n",
    "\n",
    "Ctrl+D para salir"
   ]
  },
  {
   "cell_type": "raw",
   "metadata": {},
   "source": [
    "python [ -d ] [ -i ] [ -O ] [ -S ] [ -t ] [ -u ] [ -v ] [ -x ] [ -X ] \n",
    "[ -c orden | script | - ] [ argumentos ] \n",
    "\n",
    "\n",
    "-d:\tActivar la salida de depuración del parser (sólo para genios, dependiente de opciones de compilación). \n",
    "-i:\tCuando se pasa un script como primer argumento o se utiliza la opción -c, entrar en el modo interactivo tras ejecutar el script u orden. No lee el archivo $PYTHONSTARTUP. Es útil para inspeccionar variables globales o una traza de la pila cuando un script hace saltar una excepción. \n",
    "-O:\tActivar optimizaciones básicas. Hace que la extensión del fichero compilado (a bytecode) de .pyc a pyo. \n",
    "-S:\tEvitar importar el módulo site y las manipulaciones dependientes de la instalación de sys.path que conlleva. \n",
    "-t:\tActivar una alarma cuando un fichero fuente mezcla tabuladores y espacios para el sangrado de modo tal que lo haga depender del valor del tabulador en espacios. Activar un error si la opción se duplica. \n",
    "-u:\tForzar que los flujos de entrada, salida y errores estándares (stdin, stdout, stderr) no utilicen buffer.\n",
    "-v:\tMostrar un mensaje cada vez que se inicializa un módulo, mostrando el lugar (nombre de fichero o módulo interno) del que se carga. \n",
    "-x:\tSaltarse la primera línea de código fuente. Sólo se utiliza para una trampa específica de DOS. Ojo: Los números de línea se desplazarán una unidad. \n",
    "-X:\tHacer que las excepciones estándar sean cadenas en lugar de clases. Se utiliza sólo por compatibilidad con código antiguo. \n",
    "-c orden:\tEspecifica la orden que hay que ejecutar"
   ]
  },
  {
   "cell_type": "markdown",
   "metadata": {},
   "source": [
    "## Keywords en Python 3"
   ]
  },
  {
   "cell_type": "raw",
   "metadata": {},
   "source": [
    "False, None, True, and, as, assert, break, class, continue, def, del, elif,\n",
    "else, except, finally, for, from, global, if, import, in, is, lambda,\n",
    "nonlocal, not, or, pass, raise, return, try, while, with, yield"
   ]
  },
  {
   "cell_type": "markdown",
   "metadata": {},
   "source": [
    "# Las dos primeras líneas de un programa en Python"
   ]
  },
  {
   "cell_type": "code",
   "execution_count": 1,
   "metadata": {
    "collapsed": true
   },
   "outputs": [],
   "source": [
    "#!/usr/bin/env python\n",
    "#! -*- encoding: utf8 -*-"
   ]
  },
  {
   "cell_type": "markdown",
   "metadata": {},
   "source": [
    "## Características de Python\n"
   ]
  },
  {
   "cell_type": "code",
   "execution_count": 67,
   "metadata": {
    "slideshow": {
     "slide_type": "-"
    }
   },
   "outputs": [
    {
     "name": "stdout",
     "output_type": "stream",
     "text": [
      "2 es par\n",
      "4 es par\n",
      "6 es par\n",
      "8 es par\n",
      "10 es par\n",
      "fin del bucle\n"
     ]
    }
   ],
   "source": [
    "# Los bloques de código vienen marcados por el sangrado (la indentación)\n",
    "for i in range(1,11):\n",
    "    resto = i % 2\n",
    "    if resto == 0:\n",
    "        print(\"%i es par\" % i)\n",
    "print(\"fin del bucle\")"
   ]
  },
  {
   "cell_type": "markdown",
   "metadata": {
    "collapsed": true
   },
   "source": [
    "## Características de Python\n",
    "\n",
    "* Una sentencia por línea.\n",
    "  - No se utiliza separadores de línea.\n",
    "* Una sentencia en varias líneas.\n",
    "  - ‘\\’ al final de línea.\n",
    "  - Listas, tuplas y diccionarios pueden seguir en varias líneas sin marca de final de línea.\n",
    "* Varias sentencias en la misma línea (‘;’). "
   ]
  },
  {
   "cell_type": "markdown",
   "metadata": {
    "collapsed": true
   },
   "source": [
    "## Algunos tipos de datos en Python 3\n",
    "\n",
    "* Números: enteros, reales, complejos y fracciones\n",
    "* Secuencias: cadenas, listas y tuplas\n",
    "* Diccionarios\n",
    "* Conjuntos\n",
    "\n",
    "\n",
    "* Ficheros\n",
    "* Clases\n",
    "* Instancias\n",
    "* Excepciones"
   ]
  },
  {
   "cell_type": "markdown",
   "metadata": {
    "collapsed": true
   },
   "source": [
    "## Tipos de datos en Python\n",
    "\n",
    "* Números:\n",
    "  - Enteros (**int**)\n",
    "    - No tienen limite de tamaño.\n",
    "    \n",
    "    \n",
    "  - Reales (**float**): 3.5\n",
    "    - Implementados usando los double de C. (sys.float_info)\n",
    "    \n",
    "    \n",
    "  - Otros tipos numéricos:\n",
    "    - Complejos (complex): 2+3j\n",
    "    - Fracciones (fractions).\n",
    "    - Reales con precisión configurable (decimals)."
   ]
  },
  {
   "cell_type": "code",
   "execution_count": 3,
   "metadata": {},
   "outputs": [
    {
     "data": {
      "text/plain": [
       "sys.float_info(max=1.7976931348623157e+308, max_exp=1024, max_10_exp=308, min=2.2250738585072014e-308, min_exp=-1021, min_10_exp=-307, dig=15, mant_dig=53, epsilon=2.220446049250313e-16, radix=2, rounds=1)"
      ]
     },
     "execution_count": 3,
     "metadata": {},
     "output_type": "execute_result"
    }
   ],
   "source": [
    "import sys\n",
    "sys.float_info"
   ]
  },
  {
   "cell_type": "code",
   "execution_count": 4,
   "metadata": {},
   "outputs": [
    {
     "data": {
      "text/plain": [
       "110"
      ]
     },
     "execution_count": 4,
     "metadata": {},
     "output_type": "execute_result"
    }
   ],
   "source": [
    "int('110')"
   ]
  },
  {
   "cell_type": "code",
   "execution_count": 5,
   "metadata": {},
   "outputs": [
    {
     "data": {
      "text/plain": [
       "6"
      ]
     },
     "execution_count": 5,
     "metadata": {},
     "output_type": "execute_result"
    }
   ],
   "source": [
    "int('110', 2)"
   ]
  },
  {
   "cell_type": "markdown",
   "metadata": {
    "collapsed": true
   },
   "source": [
    "## Tipos de datos en Python\n",
    "\n",
    "* Secuencias:\n",
    "  - Cadenas\n",
    "  - Listas\n",
    "  - Tuplas\n",
    "  - bytes\n",
    "  - bytearray\n",
    "\n",
    "\n",
    "* Diccionarios: mapping types (hash)\n",
    "\n",
    "\n",
    "* Conjuntos:\n",
    "  - set\n",
    "  - frozenset\n",
    "\n",
    "\n",
    "* Ficheros"
   ]
  },
  {
   "cell_type": "markdown",
   "metadata": {
    "collapsed": true
   },
   "source": [
    "## Tipos de datos en Python\n",
    "\n",
    "* No modificables (inmutables):\n",
    "  - Enteros: 4\n",
    "  - Reales: 3.5\n",
    "  - Complejos: 2+3j\n",
    "  - Cadenas\n",
    "  - Tuplas\n",
    "  - bytes\n",
    "  - frozenset\n",
    "\n",
    "\n",
    "* Modificables (mutables):\n",
    "  - Listas\n",
    "  - Conjuntos: set\n",
    "  - Diccionarios: mapping types\n",
    "  - bytearray"
   ]
  },
  {
   "cell_type": "markdown",
   "metadata": {},
   "source": [
    "## Asignación de valores\n",
    "\n",
    ">No hay definición de variables antes de la asignación de valores.\n",
    "\n",
    ">La asignación de valores se realiza utilizando **=**\n",
    "\n",
    ">Se pueden realizar asignaciones múltiples."
   ]
  },
  {
   "cell_type": "code",
   "execution_count": 6,
   "metadata": {
    "collapsed": true,
    "slideshow": {
     "slide_type": "-"
    }
   },
   "outputs": [],
   "source": [
    "# Asignación de valores\n",
    "\n",
    "a = 3\n",
    "x,y = \"mesa\", \"cuadrada\"\n",
    "x,y = y,x\n",
    "x=y=z= \"grial\""
   ]
  },
  {
   "cell_type": "markdown",
   "metadata": {
    "collapsed": true
   },
   "source": [
    "## Tipos de datos en Python\n",
    "\n",
    "* type(objeto)\n",
    "\n",
    "* id(objeto)\n",
    "\n",
    "* objeto == objeto\n",
    "\n",
    "* objeto is objeto"
   ]
  },
  {
   "cell_type": "code",
   "execution_count": 7,
   "metadata": {
    "collapsed": true
   },
   "outputs": [],
   "source": [
    "a = [\"grial\"]\n",
    "b = [\"gri\" + \"al\"]"
   ]
  },
  {
   "cell_type": "code",
   "execution_count": 8,
   "metadata": {},
   "outputs": [
    {
     "data": {
      "text/plain": [
       "list"
      ]
     },
     "execution_count": 8,
     "metadata": {},
     "output_type": "execute_result"
    }
   ],
   "source": [
    "type(a)"
   ]
  },
  {
   "cell_type": "code",
   "execution_count": 9,
   "metadata": {},
   "outputs": [
    {
     "data": {
      "text/plain": [
       "list"
      ]
     },
     "execution_count": 9,
     "metadata": {},
     "output_type": "execute_result"
    }
   ],
   "source": [
    "type(b)"
   ]
  },
  {
   "cell_type": "code",
   "execution_count": 10,
   "metadata": {},
   "outputs": [
    {
     "data": {
      "text/plain": [
       "139869375329736"
      ]
     },
     "execution_count": 10,
     "metadata": {},
     "output_type": "execute_result"
    }
   ],
   "source": [
    "id(a)"
   ]
  },
  {
   "cell_type": "code",
   "execution_count": 11,
   "metadata": {},
   "outputs": [
    {
     "data": {
      "text/plain": [
       "139869450607240"
      ]
     },
     "execution_count": 11,
     "metadata": {},
     "output_type": "execute_result"
    }
   ],
   "source": [
    "id(b)"
   ]
  },
  {
   "cell_type": "code",
   "execution_count": 12,
   "metadata": {},
   "outputs": [
    {
     "data": {
      "text/plain": [
       "True"
      ]
     },
     "execution_count": 12,
     "metadata": {},
     "output_type": "execute_result"
    }
   ],
   "source": [
    "a == b"
   ]
  },
  {
   "cell_type": "code",
   "execution_count": 13,
   "metadata": {},
   "outputs": [
    {
     "data": {
      "text/plain": [
       "False"
      ]
     },
     "execution_count": 13,
     "metadata": {},
     "output_type": "execute_result"
    }
   ],
   "source": [
    "a is b"
   ]
  },
  {
   "cell_type": "code",
   "execution_count": 14,
   "metadata": {},
   "outputs": [
    {
     "data": {
      "text/plain": [
       "True"
      ]
     },
     "execution_count": 14,
     "metadata": {},
     "output_type": "execute_result"
    }
   ],
   "source": [
    "a[0] is b[0]"
   ]
  },
  {
   "cell_type": "markdown",
   "metadata": {
    "collapsed": true
   },
   "source": [
    "## Números\n",
    "\n",
    "Son objetos no modificables:"
   ]
  },
  {
   "cell_type": "code",
   "execution_count": 15,
   "metadata": {},
   "outputs": [
    {
     "data": {
      "text/plain": [
       "(139869558708960, 139869558708960)"
      ]
     },
     "execution_count": 15,
     "metadata": {},
     "output_type": "execute_result"
    }
   ],
   "source": [
    "a = 10\n",
    "b = a\n",
    "id(a), id(b)"
   ]
  },
  {
   "cell_type": "code",
   "execution_count": 16,
   "metadata": {},
   "outputs": [
    {
     "data": {
      "text/plain": [
       "(139869558708960, 139869558709280)"
      ]
     },
     "execution_count": 16,
     "metadata": {},
     "output_type": "execute_result"
    }
   ],
   "source": [
    "b = b + 10\n",
    "id(a), id(b)"
   ]
  },
  {
   "cell_type": "markdown",
   "metadata": {
    "collapsed": true
   },
   "source": [
    "Conversión implícita de tipo:"
   ]
  },
  {
   "cell_type": "code",
   "execution_count": 17,
   "metadata": {},
   "outputs": [
    {
     "data": {
      "text/plain": [
       "3.3333333333333335"
      ]
     },
     "execution_count": 17,
     "metadata": {},
     "output_type": "execute_result"
    }
   ],
   "source": [
    "a = 10\n",
    "b = 3\n",
    "c = a / b\n",
    "c"
   ]
  },
  {
   "cell_type": "markdown",
   "metadata": {
    "collapsed": true
   },
   "source": [
    "## Números: Asignación de valores\n",
    "\n",
    "* +=\n",
    "* -=\n",
    "* *=\n",
    "* /=\n",
    "* **=\n",
    "* //=\n",
    "* %="
   ]
  },
  {
   "cell_type": "code",
   "execution_count": 18,
   "metadata": {},
   "outputs": [
    {
     "name": "stdout",
     "output_type": "stream",
     "text": [
      "25.3\n",
      "28.3\n",
      "18.3\n",
      "45.75\n",
      "9.15\n",
      "83.72250000000001\n",
      "8.0\n"
     ]
    }
   ],
   "source": [
    "a = 25.3 ; print(a)\n",
    "a += 3 ; print(a)\n",
    "a -= 10 ; print(a)\n",
    "a *= 2.5 ; print(a)\n",
    "a /= 5 ; print(a)\n",
    "a **= 2 ; print(a)\n",
    "a //= 10 ; print(a)"
   ]
  },
  {
   "cell_type": "markdown",
   "metadata": {
    "collapsed": true
   },
   "source": [
    "## Cadenas\n",
    "\n",
    "* Son secuencias no modificables de caracteres.\n",
    "\n",
    "* No existe el tipo char. \n",
    "\n",
    "* Se definen usando comillas (simples o dobles)."
   ]
  },
  {
   "cell_type": "code",
   "execution_count": 19,
   "metadata": {
    "collapsed": true
   },
   "outputs": [],
   "source": [
    "a = 'los caballeros de la mesa cuadrada'\n",
    "b = \"y ahora algo totalmente diferente\"\n",
    "c = \"     Learning Python, Ed. O'Reilly Media \"\n",
    "d = 'x'\n",
    "e = 'spam'"
   ]
  },
  {
   "cell_type": "markdown",
   "metadata": {
    "collapsed": true
   },
   "source": [
    "## Cadenas\n",
    " \n",
    "### Operadores sobre secuencias:\n",
    "\n",
    "* \\+ (concatenación)\n",
    "* \\* (repetición de la cadena) \n",
    "* in, not in (está en) \n",
    "* cad[a] (subcadena de un carácter) \n",
    "* cad[a:b] (subcadena) \n",
    "* cad[a:b:c] (subcadena con salto !=1)\n",
    "\n",
    "\n",
    "* len(cad) (longitud de la cadena) \n",
    "* min(cad) (carácter \"menor\") \n",
    "* max(cad) (carácter \"mayor) \n",
    "* comparativas lógicas (<, >, <=, >=, <>)"
   ]
  },
  {
   "cell_type": "code",
   "execution_count": 20,
   "metadata": {},
   "outputs": [
    {
     "data": {
      "text/plain": [
       "'los caballeros de la mesa cuadrada-y ahora algo totalmente diferente'"
      ]
     },
     "execution_count": 20,
     "metadata": {},
     "output_type": "execute_result"
    }
   ],
   "source": [
    "a + '-' + b"
   ]
  },
  {
   "cell_type": "code",
   "execution_count": 21,
   "metadata": {},
   "outputs": [
    {
     "data": {
      "text/plain": [
       "'spamspamspam'"
      ]
     },
     "execution_count": 21,
     "metadata": {},
     "output_type": "execute_result"
    }
   ],
   "source": [
    "e * 3"
   ]
  },
  {
   "cell_type": "code",
   "execution_count": 22,
   "metadata": {},
   "outputs": [
    {
     "data": {
      "text/plain": [
       "True"
      ]
     },
     "execution_count": 22,
     "metadata": {},
     "output_type": "execute_result"
    }
   ],
   "source": [
    "'mesa' in a"
   ]
  },
  {
   "cell_type": "code",
   "execution_count": 23,
   "metadata": {},
   "outputs": [
    {
     "data": {
      "text/plain": [
       "False"
      ]
     },
     "execution_count": 23,
     "metadata": {},
     "output_type": "execute_result"
    }
   ],
   "source": [
    "'mesa' in b"
   ]
  },
  {
   "cell_type": "code",
   "execution_count": 24,
   "metadata": {},
   "outputs": [
    {
     "data": {
      "text/plain": [
       "'s'"
      ]
     },
     "execution_count": 24,
     "metadata": {},
     "output_type": "execute_result"
    }
   ],
   "source": [
    "a[2] # el primer carácter de la cadena ocupa la posición 0"
   ]
  },
  {
   "cell_type": "code",
   "execution_count": 25,
   "metadata": {},
   "outputs": [
    {
     "data": {
      "text/plain": [
       "'caballeros'"
      ]
     },
     "execution_count": 25,
     "metadata": {},
     "output_type": "execute_result"
    }
   ],
   "source": [
    "a[4:14] # no incluye el carácter de la posición 14"
   ]
  },
  {
   "cell_type": "code",
   "execution_count": 26,
   "metadata": {},
   "outputs": [
    {
     "data": {
      "text/plain": [
       "'cbleo'"
      ]
     },
     "execution_count": 26,
     "metadata": {},
     "output_type": "execute_result"
    }
   ],
   "source": [
    "a[4:14:2] #coge uno de cada 2 caracteres"
   ]
  },
  {
   "cell_type": "code",
   "execution_count": 27,
   "metadata": {},
   "outputs": [
    {
     "data": {
      "text/plain": [
       "34"
      ]
     },
     "execution_count": 27,
     "metadata": {},
     "output_type": "execute_result"
    }
   ],
   "source": [
    "len(a)"
   ]
  },
  {
   "cell_type": "code",
   "execution_count": 28,
   "metadata": {},
   "outputs": [
    {
     "data": {
      "text/plain": [
       "' '"
      ]
     },
     "execution_count": 28,
     "metadata": {},
     "output_type": "execute_result"
    }
   ],
   "source": [
    "min(b)"
   ]
  },
  {
   "cell_type": "code",
   "execution_count": 29,
   "metadata": {},
   "outputs": [
    {
     "data": {
      "text/plain": [
       "'u'"
      ]
     },
     "execution_count": 29,
     "metadata": {},
     "output_type": "execute_result"
    }
   ],
   "source": [
    "max(a)"
   ]
  },
  {
   "cell_type": "code",
   "execution_count": 30,
   "metadata": {},
   "outputs": [
    {
     "data": {
      "text/plain": [
       "True"
      ]
     },
     "execution_count": 30,
     "metadata": {},
     "output_type": "execute_result"
    }
   ],
   "source": [
    "d > c"
   ]
  },
  {
   "cell_type": "markdown",
   "metadata": {},
   "source": [
    "## Cadenas\n",
    "\n",
    "### Métodos de cadenas:\n",
    "\n",
    "* lower()  \n",
    "* upper() \n",
    "* replace(old, new[, count]) \n",
    "* center(width[, fillchar]) \n",
    "* ljust(width[, fillchar]) \n",
    "* rjust(width[, fillchar]) \n",
    "* zfill(width) \n",
    "\n",
    "\n",
    "* count(sub[, start[, end]])\n",
    "* startswith(prefix[, start[, end]])\n",
    "* endswith(suffix[, start[, end]])\n",
    "* find(sub[, start[, end]])\n",
    "* rfind(sub [,start [,end]])\n",
    "* index(sub[, start[, end]])\n",
    "* rindex(sub[, start[, end]])"
   ]
  },
  {
   "cell_type": "code",
   "execution_count": 31,
   "metadata": {
    "collapsed": true
   },
   "outputs": [],
   "source": [
    "a = 'los caballeros de la mesa cuadrada'\n",
    "b = \"y ahora algo totalmente diferente\"\n",
    "c = \"     Learning Python, Ed. O'Reilly Media \"\n",
    "d = 'x'\n",
    "e = 'spam'"
   ]
  },
  {
   "cell_type": "code",
   "execution_count": 32,
   "metadata": {},
   "outputs": [
    {
     "data": {
      "text/plain": [
       "'LOS CABALLEROS DE LA MESA CUADRADA'"
      ]
     },
     "execution_count": 32,
     "metadata": {},
     "output_type": "execute_result"
    }
   ],
   "source": [
    "a.upper()"
   ]
  },
  {
   "cell_type": "code",
   "execution_count": 33,
   "metadata": {},
   "outputs": [
    {
     "data": {
      "text/plain": [
       "\"     learning python, ed. o'reilly media \""
      ]
     },
     "execution_count": 33,
     "metadata": {},
     "output_type": "execute_result"
    }
   ],
   "source": [
    "c.lower()"
   ]
  },
  {
   "cell_type": "code",
   "execution_count": 34,
   "metadata": {},
   "outputs": [
    {
     "data": {
      "text/plain": [
       "'y ahora algo totalmenSPAM diferenSPAM'"
      ]
     },
     "execution_count": 34,
     "metadata": {},
     "output_type": "execute_result"
    }
   ],
   "source": [
    "b.replace('te', 'SPAM')"
   ]
  },
  {
   "cell_type": "code",
   "execution_count": 35,
   "metadata": {},
   "outputs": [
    {
     "data": {
      "text/plain": [
       "'    x     '"
      ]
     },
     "execution_count": 35,
     "metadata": {},
     "output_type": "execute_result"
    }
   ],
   "source": [
    "d.center(10)"
   ]
  },
  {
   "cell_type": "code",
   "execution_count": 36,
   "metadata": {},
   "outputs": [
    {
     "data": {
      "text/plain": [
       "'x---------'"
      ]
     },
     "execution_count": 36,
     "metadata": {},
     "output_type": "execute_result"
    }
   ],
   "source": [
    "d.ljust(10,'-')"
   ]
  },
  {
   "cell_type": "code",
   "execution_count": 37,
   "metadata": {},
   "outputs": [
    {
     "data": {
      "text/plain": [
       "'---------x'"
      ]
     },
     "execution_count": 37,
     "metadata": {},
     "output_type": "execute_result"
    }
   ],
   "source": [
    "d.rjust(10,'-')"
   ]
  },
  {
   "cell_type": "code",
   "execution_count": 38,
   "metadata": {},
   "outputs": [
    {
     "data": {
      "text/plain": [
       "'000000000x'"
      ]
     },
     "execution_count": 38,
     "metadata": {},
     "output_type": "execute_result"
    }
   ],
   "source": [
    "d.zfill(10)"
   ]
  },
  {
   "cell_type": "code",
   "execution_count": 39,
   "metadata": {},
   "outputs": [
    {
     "data": {
      "text/plain": [
       "7"
      ]
     },
     "execution_count": 39,
     "metadata": {},
     "output_type": "execute_result"
    }
   ],
   "source": [
    "a.count('a')"
   ]
  },
  {
   "cell_type": "code",
   "execution_count": 40,
   "metadata": {},
   "outputs": [
    {
     "data": {
      "text/plain": [
       "False"
      ]
     },
     "execution_count": 40,
     "metadata": {},
     "output_type": "execute_result"
    }
   ],
   "source": [
    "b.startswith('los')"
   ]
  },
  {
   "cell_type": "code",
   "execution_count": 41,
   "metadata": {},
   "outputs": [
    {
     "data": {
      "text/plain": [
       "True"
      ]
     },
     "execution_count": 41,
     "metadata": {},
     "output_type": "execute_result"
    }
   ],
   "source": [
    "a.startswith('los')"
   ]
  },
  {
   "cell_type": "code",
   "execution_count": 42,
   "metadata": {},
   "outputs": [
    {
     "data": {
      "text/plain": [
       "False"
      ]
     },
     "execution_count": 42,
     "metadata": {},
     "output_type": "execute_result"
    }
   ],
   "source": [
    "a.endswith('.txt')"
   ]
  },
  {
   "cell_type": "code",
   "execution_count": 43,
   "metadata": {},
   "outputs": [
    {
     "data": {
      "text/plain": [
       "True"
      ]
     },
     "execution_count": 43,
     "metadata": {},
     "output_type": "execute_result"
    }
   ],
   "source": [
    "a.endswith('drada')"
   ]
  },
  {
   "cell_type": "code",
   "execution_count": 44,
   "metadata": {},
   "outputs": [
    {
     "data": {
      "text/plain": [
       "8"
      ]
     },
     "execution_count": 44,
     "metadata": {},
     "output_type": "execute_result"
    }
   ],
   "source": [
    "b.find('algo')"
   ]
  },
  {
   "cell_type": "code",
   "execution_count": 45,
   "metadata": {},
   "outputs": [
    {
     "data": {
      "text/plain": [
       "-1"
      ]
     },
     "execution_count": 45,
     "metadata": {},
     "output_type": "execute_result"
    }
   ],
   "source": [
    "b.find('spam')"
   ]
  },
  {
   "cell_type": "code",
   "execution_count": 46,
   "metadata": {},
   "outputs": [
    {
     "data": {
      "text/plain": [
       "31"
      ]
     },
     "execution_count": 46,
     "metadata": {},
     "output_type": "execute_result"
    }
   ],
   "source": [
    "b.rfind('t')"
   ]
  },
  {
   "cell_type": "code",
   "execution_count": 47,
   "metadata": {},
   "outputs": [
    {
     "data": {
      "text/plain": [
       "8"
      ]
     },
     "execution_count": 47,
     "metadata": {},
     "output_type": "execute_result"
    }
   ],
   "source": [
    "b.index('algo')"
   ]
  },
  {
   "cell_type": "code",
   "execution_count": 48,
   "metadata": {},
   "outputs": [
    {
     "ename": "ValueError",
     "evalue": "substring not found",
     "output_type": "error",
     "traceback": [
      "\u001b[0;31m---------------------------------------------------------------------------\u001b[0m",
      "\u001b[0;31mValueError\u001b[0m                                Traceback (most recent call last)",
      "\u001b[0;32m<ipython-input-48-0939eef6ba56>\u001b[0m in \u001b[0;36m<module>\u001b[0;34m()\u001b[0m\n\u001b[0;32m----> 1\u001b[0;31m \u001b[0mb\u001b[0m\u001b[0;34m.\u001b[0m\u001b[0mindex\u001b[0m\u001b[0;34m(\u001b[0m\u001b[0;34m'spam'\u001b[0m\u001b[0;34m)\u001b[0m\u001b[0;34m\u001b[0m\u001b[0m\n\u001b[0m",
      "\u001b[0;31mValueError\u001b[0m: substring not found"
     ]
    }
   ],
   "source": [
    "b.index('spam')"
   ]
  },
  {
   "cell_type": "markdown",
   "metadata": {},
   "source": [
    "## Cadenas\n",
    "\n",
    "### Métodos de cadenas:\n",
    "\n",
    "* split([sep [,maxsplit]]) \n",
    "* rsplit([sep [,maxsplit]]) \n",
    "* join(seq) \n",
    "\n",
    "\n",
    "* strip([chars]) \n",
    "* lstrip([chars]) \n",
    "* rstrip([chars]) "
   ]
  },
  {
   "cell_type": "code",
   "execution_count": 49,
   "metadata": {},
   "outputs": [
    {
     "data": {
      "text/plain": [
       "['los', 'caballeros', 'de', 'la', 'mesa', 'cuadrada']"
      ]
     },
     "execution_count": 49,
     "metadata": {},
     "output_type": "execute_result"
    }
   ],
   "source": [
    "t = a.split()\n",
    "t # t es una lista. Ahora las vemos :-)"
   ]
  },
  {
   "cell_type": "code",
   "execution_count": 50,
   "metadata": {},
   "outputs": [
    {
     "data": {
      "text/plain": [
       "'los*caballeros*de*la*mesa*cuadrada'"
      ]
     },
     "execution_count": 50,
     "metadata": {},
     "output_type": "execute_result"
    }
   ],
   "source": [
    "'*'.join(t)"
   ]
  },
  {
   "cell_type": "code",
   "execution_count": 51,
   "metadata": {},
   "outputs": [
    {
     "data": {
      "text/plain": [
       "'los*caballeros*de*la*mesa*cuadrada'"
      ]
     },
     "execution_count": 51,
     "metadata": {},
     "output_type": "execute_result"
    }
   ],
   "source": [
    "'*'.join(a.split())"
   ]
  },
  {
   "cell_type": "code",
   "execution_count": 52,
   "metadata": {},
   "outputs": [
    {
     "data": {
      "text/plain": [
       "['los', 'caballeros', 'de la mesa cuadrada']"
      ]
     },
     "execution_count": 52,
     "metadata": {},
     "output_type": "execute_result"
    }
   ],
   "source": [
    "a.split(' ',2)"
   ]
  },
  {
   "cell_type": "code",
   "execution_count": 53,
   "metadata": {},
   "outputs": [
    {
     "data": {
      "text/plain": [
       "['los caballeros de la', 'mesa', 'cuadrada']"
      ]
     },
     "execution_count": 53,
     "metadata": {},
     "output_type": "execute_result"
    }
   ],
   "source": [
    "a.rsplit(' ',2)"
   ]
  },
  {
   "cell_type": "code",
   "execution_count": 54,
   "metadata": {},
   "outputs": [
    {
     "data": {
      "text/plain": [
       "\"     Learning Python, Ed. O'Reilly Media \""
      ]
     },
     "execution_count": 54,
     "metadata": {},
     "output_type": "execute_result"
    }
   ],
   "source": [
    "c"
   ]
  },
  {
   "cell_type": "code",
   "execution_count": 55,
   "metadata": {},
   "outputs": [
    {
     "data": {
      "text/plain": [
       "\"Learning Python, Ed. O'Reilly Media\""
      ]
     },
     "execution_count": 55,
     "metadata": {},
     "output_type": "execute_result"
    }
   ],
   "source": [
    "c.strip()"
   ]
  },
  {
   "cell_type": "code",
   "execution_count": 56,
   "metadata": {},
   "outputs": [
    {
     "data": {
      "text/plain": [
       "\"Learning Python, Ed. O'Reilly Media \""
      ]
     },
     "execution_count": 56,
     "metadata": {},
     "output_type": "execute_result"
    }
   ],
   "source": [
    "c.lstrip()"
   ]
  },
  {
   "cell_type": "code",
   "execution_count": 57,
   "metadata": {},
   "outputs": [
    {
     "data": {
      "text/plain": [
       "\"     Learning Python, Ed. O'Reilly Media\""
      ]
     },
     "execution_count": 57,
     "metadata": {},
     "output_type": "execute_result"
    }
   ],
   "source": [
    "c.rstrip()"
   ]
  },
  {
   "cell_type": "markdown",
   "metadata": {},
   "source": [
    "### Cadenas raw"
   ]
  },
  {
   "cell_type": "code",
   "execution_count": 58,
   "metadata": {
    "collapsed": true
   },
   "outputs": [],
   "source": [
    "a = \"el sentido de \\\n",
    "la vida\"\n",
    "b = r\"el sentido de \\la vida\"\n",
    "c = \"\"\"el sentido de\n",
    "la vida\"\"\""
   ]
  },
  {
   "cell_type": "code",
   "execution_count": 59,
   "metadata": {},
   "outputs": [
    {
     "data": {
      "text/plain": [
       "'el sentido de la vida'"
      ]
     },
     "execution_count": 59,
     "metadata": {},
     "output_type": "execute_result"
    }
   ],
   "source": [
    "a"
   ]
  },
  {
   "cell_type": "code",
   "execution_count": 60,
   "metadata": {},
   "outputs": [
    {
     "data": {
      "text/plain": [
       "'el sentido de \\\\la vida'"
      ]
     },
     "execution_count": 60,
     "metadata": {},
     "output_type": "execute_result"
    }
   ],
   "source": [
    "b"
   ]
  },
  {
   "cell_type": "code",
   "execution_count": 61,
   "metadata": {},
   "outputs": [
    {
     "data": {
      "text/plain": [
       "'el sentido de\\nla vida'"
      ]
     },
     "execution_count": 61,
     "metadata": {},
     "output_type": "execute_result"
    }
   ],
   "source": [
    "c"
   ]
  },
  {
   "cell_type": "code",
   "execution_count": 62,
   "metadata": {},
   "outputs": [
    {
     "name": "stdout",
     "output_type": "stream",
     "text": [
      "el sentido de la vida\n"
     ]
    }
   ],
   "source": [
    "print(a)"
   ]
  },
  {
   "cell_type": "code",
   "execution_count": 63,
   "metadata": {},
   "outputs": [
    {
     "name": "stdout",
     "output_type": "stream",
     "text": [
      "el sentido de \\la vida\n"
     ]
    }
   ],
   "source": [
    "print(b)"
   ]
  },
  {
   "cell_type": "code",
   "execution_count": 64,
   "metadata": {},
   "outputs": [
    {
     "name": "stdout",
     "output_type": "stream",
     "text": [
      "el sentido de\n",
      "la vida\n"
     ]
    }
   ],
   "source": [
    "print(c)"
   ]
  },
  {
   "cell_type": "markdown",
   "metadata": {},
   "source": [
    "## Cadenas unicode\n",
    "\n",
    "* En Python 3 las cadenas (la clase 'str') son cadenas unicode\n",
    "    - Esto no pasaba en Python 2.\n",
    "    \n",
    "    \n",
    "* **len** de una cadena indica el número de símbolos que tiene la cadena, independientemente de la cantidad de bytes utilizados para codificarlos.\n",
    "\n",
    "\n",
    "* Python 3 tiene una clase, **bytes**, equivalente a las cadenas en Python 2. En este caso **len** indicará la cantidad de bytes utilizados."
   ]
  },
  {
   "cell_type": "code",
   "execution_count": 65,
   "metadata": {},
   "outputs": [
    {
     "name": "stdout",
     "output_type": "stream",
     "text": [
      "hola\n",
      "<class 'str'>\n",
      "4\n",
      "-----\n",
      "b'hola'\n",
      "<class 'bytes'>\n",
      "4\n",
      "-----\n",
      "False\n"
     ]
    }
   ],
   "source": [
    "# si todo es ASCII 'str' y 'bytes' coinciden.\n",
    "\n",
    "hello = \"hola\"\n",
    "b = bytes(hello, 'utf8')\n",
    "print(hello)\n",
    "print(type(hello))\n",
    "print(len(hello))\n",
    "print('-'*5)\n",
    "print(b)\n",
    "print(type(b))\n",
    "print(len(b))\n",
    "print('-'*5)\n",
    "print(hello == b)"
   ]
  },
  {
   "cell_type": "code",
   "execution_count": 66,
   "metadata": {},
   "outputs": [
    {
     "name": "stdout",
     "output_type": "stream",
     "text": [
      "你好\n",
      "<class 'str'>\n",
      "2\n",
      "-----\n",
      "b'\\xe4\\xbd\\xa0\\xe5\\xa5\\xbd'\n",
      "<class 'bytes'>\n",
      "6\n",
      "-----\n",
      "False\n"
     ]
    }
   ],
   "source": [
    "# los problemas comienzan cuando utilizamos \"unicode\"\n",
    "\n",
    "hello = \"你好\"\n",
    "b = bytes(hello, 'utf8')\n",
    "print(hello)\n",
    "print(type(hello))\n",
    "print(len(hello))\n",
    "print('-'*5)\n",
    "print(b)\n",
    "print(type(b))\n",
    "print(len(b))\n",
    "print('-'*5)\n",
    "print(hello == b)"
   ]
  },
  {
   "cell_type": "markdown",
   "metadata": {},
   "source": [
    "## Cadenas unicode\n",
    "\n",
    "\n",
    "* Conclusión: en Python 3 utiliza siempre cadenas unicode **str** a no ser que sepas lo que haces.\n",
    "\n",
    "\n",
    "* Afortunadamente esta es la opción por defecto en Python 3 ;-)"
   ]
  },
  {
   "cell_type": "markdown",
   "metadata": {},
   "source": [
    "## Formato de cadenas\n",
    "\n",
    "#### Formato simple:"
   ]
  },
  {
   "cell_type": "code",
   "execution_count": 67,
   "metadata": {},
   "outputs": [
    {
     "name": "stdout",
     "output_type": "stream",
     "text": [
      "3 es el numero que se contará, y el número de la cuenta será 3 . No se contarán 4 ni se contarán 2 , salvo para seguir después a 3 .\n"
     ]
    }
   ],
   "source": [
    "print(3, \"es el numero que se contará, y el número de la cuenta será\", 3,\". No se contarán\", 4, \"ni se contarán\", 2,\", salvo para seguir después a\",3,\".\")"
   ]
  },
  {
   "cell_type": "code",
   "execution_count": 68,
   "metadata": {},
   "outputs": [
    {
     "name": "stdout",
     "output_type": "stream",
     "text": [
      "3 es el numero que se contará, y el número de la cuenta será 3 . No se contarán 4 ni se contarán 2 , salvo para seguir después a 3 .\n"
     ]
    }
   ],
   "source": [
    "print(3, \"es el numero que se contará, y el número de la cuenta será\", 3,\n",
    "       \". No se contarán\", 4, \"ni se contarán\", 2,\", salvo para seguir después a\",3,\".\")"
   ]
  },
  {
   "cell_type": "code",
   "execution_count": 69,
   "metadata": {},
   "outputs": [
    {
     "data": {
      "text/plain": [
       "tuple"
      ]
     },
     "execution_count": 69,
     "metadata": {},
     "output_type": "execute_result"
    }
   ],
   "source": [
    "cad = 3, \"es el numero que se contará, y el número de la cuenta será\", 3,\". No se contarán\", 4, \"ni se contarán\", 2,\", salvo para seguir después a\",3,\".\"\n",
    "type(cad)"
   ]
  },
  {
   "cell_type": "code",
   "execution_count": 70,
   "metadata": {},
   "outputs": [
    {
     "data": {
      "text/plain": [
       "str"
      ]
     },
     "execution_count": 70,
     "metadata": {},
     "output_type": "execute_result"
    }
   ],
   "source": [
    "cad = str(3) + \" es el numero que se contará, y el número de la cuenta será \" + str(3) + \". No se contarán \" + str(4) + \" ni se contarán \" + str(2) + \", salvo para seguir después a \" + str(3) + \".\"\n",
    "type(cad)"
   ]
  },
  {
   "cell_type": "code",
   "execution_count": 71,
   "metadata": {},
   "outputs": [
    {
     "data": {
      "text/plain": [
       "str"
      ]
     },
     "execution_count": 71,
     "metadata": {},
     "output_type": "execute_result"
    }
   ],
   "source": [
    "cad = str(3) + \" es el numero que se contará, y el número de la cuenta será \" + \\\n",
    "        str(3) + \". No se contarán \" + str(4) + \" ni se contarán \" + str(2) +  \\\n",
    "        \", salvo para seguir después a \" + str(3) + \".\"\n",
    "type(cad)"
   ]
  },
  {
   "cell_type": "markdown",
   "metadata": {},
   "source": [
    "## Formato de cadenas\n",
    "\n",
    "### Como el printf de C:"
   ]
  },
  {
   "cell_type": "code",
   "execution_count": 72,
   "metadata": {},
   "outputs": [
    {
     "name": "stdout",
     "output_type": "stream",
     "text": [
      "3 es el numero que se contará, y el número de la cuenta será 3. No se contarán 4 ni se contarán 2, salvo para seguir después a 3.\n"
     ]
    }
   ],
   "source": [
    "print(\"%d es el numero que se contará, y el número de la cuenta será %d. No se contarán %d ni se contarán %d, salvo para seguir después a %d.\" % (3,3,4,2,3) )"
   ]
  },
  {
   "cell_type": "code",
   "execution_count": 73,
   "metadata": {},
   "outputs": [
    {
     "name": "stdout",
     "output_type": "stream",
     "text": [
      "3 es el numero que se contará, y el número de la cuenta será 3. No se contarán 4 ni se contarán 2, salvo para seguir después a 3.\n"
     ]
    }
   ],
   "source": [
    "print(\"%d es el numero que se contará, y el número de la cuenta será %d. \\\n",
    "No se contarán %d ni se contarán %d, salvo para seguir después a %d.\" % (3,3,4,2,3) )"
   ]
  },
  {
   "cell_type": "code",
   "execution_count": 74,
   "metadata": {},
   "outputs": [
    {
     "name": "stdout",
     "output_type": "stream",
     "text": [
      "spam es una cadena, 003 es un número\n"
     ]
    }
   ],
   "source": [
    "print(\"%s es una cadena, %03d es un número\" % (\"spam\", 3))"
   ]
  },
  {
   "cell_type": "code",
   "execution_count": 75,
   "metadata": {},
   "outputs": [
    {
     "name": "stdout",
     "output_type": "stream",
     "text": [
      "spam, spam, spam\n"
     ]
    }
   ],
   "source": [
    "print(\"%s, %s, %s\" % (\"spam\", \"spam\", \"spam\"))"
   ]
  },
  {
   "cell_type": "code",
   "execution_count": 76,
   "metadata": {},
   "outputs": [
    {
     "data": {
      "text/plain": [
       "str"
      ]
     },
     "execution_count": 76,
     "metadata": {},
     "output_type": "execute_result"
    }
   ],
   "source": [
    "cad = \"%s, %s, %s\" % (\"spam\", \"spam\", \"spam\")\n",
    "type(cad)"
   ]
  },
  {
   "cell_type": "code",
   "execution_count": 77,
   "metadata": {},
   "outputs": [
    {
     "name": "stdout",
     "output_type": "stream",
     "text": [
      "% es un porcentaje\n"
     ]
    }
   ],
   "source": [
    "print(\"% es un porcentaje\")"
   ]
  },
  {
   "cell_type": "markdown",
   "metadata": {},
   "source": [
    "## Formato de cadenas\n",
    "\n",
    "### Formato avanzado:"
   ]
  },
  {
   "cell_type": "code",
   "execution_count": 78,
   "metadata": {},
   "outputs": [
    {
     "name": "stdout",
     "output_type": "stream",
     "text": [
      "3 es el numero que se contará, y el número de la cuenta será 3. No se contarán 4 ni se contarán 2, salvo para seguir después a 3.\n"
     ]
    }
   ],
   "source": [
    "print(\"{0:d} es el numero que se contará, y el número de la cuenta será {0:d}. No se contarán {2:d} ni se contarán {1:d}, salvo para seguir después a {0:d}.\".format(3, 2, 4))"
   ]
  },
  {
   "cell_type": "code",
   "execution_count": 79,
   "metadata": {},
   "outputs": [
    {
     "name": "stdout",
     "output_type": "stream",
     "text": [
      "3 es el numero que se contará, y el número de la cuenta será 3. No se contarán 4 ni se contarán 2, salvo para seguir después a 3.\n"
     ]
    }
   ],
   "source": [
    "print(\"{0:d} es el numero que se contará, y el número de la cuenta será {0:d}. \\\n",
    "No se contarán {2:d} ni se contarán {1:d}, salvo para seguir después a {0:d}.\".format(3, 2, 4))"
   ]
  },
  {
   "cell_type": "code",
   "execution_count": 80,
   "metadata": {},
   "outputs": [
    {
     "name": "stdout",
     "output_type": "stream",
     "text": [
      "3 es el numero que se contará, y el número de la cuenta será 3. No se contarán 4 ni se contarán 2, salvo para seguir después a 3.\n"
     ]
    }
   ],
   "source": [
    "print(\"{correcto:d} es el numero que se contará, \\\n",
    "y el número de la cuenta será {correcto:d}. No se contarán {alto:d} ni se contarán {bajo:d}, \\\n",
    "salvo para seguir después a {correcto:d}.\".format(correcto=3, bajo=2, alto=4))"
   ]
  },
  {
   "cell_type": "code",
   "execution_count": 81,
   "metadata": {},
   "outputs": [
    {
     "name": "stdout",
     "output_type": "stream",
     "text": [
      "spam es una cadena, 003 es un número\n"
     ]
    }
   ],
   "source": [
    "print(\"{:s} es una cadena, {:03d} es un número\".format(\"spam\", 3))"
   ]
  },
  {
   "cell_type": "code",
   "execution_count": 82,
   "metadata": {},
   "outputs": [
    {
     "name": "stdout",
     "output_type": "stream",
     "text": [
      "spam, spam, spam\n"
     ]
    }
   ],
   "source": [
    "print(\"{0:s}, {0:s}, {0:s}\".format(\"spam\"))"
   ]
  },
  {
   "cell_type": "code",
   "execution_count": 83,
   "metadata": {},
   "outputs": [
    {
     "data": {
      "text/plain": [
       "str"
      ]
     },
     "execution_count": 83,
     "metadata": {},
     "output_type": "execute_result"
    }
   ],
   "source": [
    "cad = \"{0:s}, {0:s}, {0:s}\".format(\"spam\")\n",
    "type(cad)"
   ]
  },
  {
   "cell_type": "markdown",
   "metadata": {},
   "source": [
    "# Entrada\n",
    "\n",
    "> * input([mensaje]). Muestra el mensaje y lee una línea de entrada, la convierte en una cadena (quitando la marca de nueva línea final), y la devuelve. \n",
    "\n"
   ]
  },
  {
   "cell_type": "code",
   "execution_count": 84,
   "metadata": {},
   "outputs": [
    {
     "name": "stdout",
     "output_type": "stream",
     "text": [
      "¿Cúal es tu ...... color favorito?:azul\n",
      "el 'azul' mola\n"
     ]
    }
   ],
   "source": [
    "color = input('¿Cúal es tu ...... color favorito?:')\n",
    "print(\"el '%s' mola\" % color)"
   ]
  },
  {
   "cell_type": "markdown",
   "metadata": {},
   "source": [
    "# Listas\n",
    "\n",
    "Secuencias modificables de objetos (pueden ser de distintos tipos)\n"
   ]
  },
  {
   "cell_type": "code",
   "execution_count": 85,
   "metadata": {},
   "outputs": [
    {
     "data": {
      "text/plain": [
       "[1, 2, 3, 4, 5]"
      ]
     },
     "execution_count": 85,
     "metadata": {},
     "output_type": "execute_result"
    }
   ],
   "source": [
    "# Listas\n",
    "l1 = [1, 2, 3, 4, 5] # una lista\n",
    "l1"
   ]
  },
  {
   "cell_type": "code",
   "execution_count": 86,
   "metadata": {},
   "outputs": [
    {
     "data": {
      "text/plain": [
       "['caballeros', 'mesa', 'cuadrada']"
      ]
     },
     "execution_count": 86,
     "metadata": {},
     "output_type": "execute_result"
    }
   ],
   "source": [
    "l2 = [\"caballeros\", \"mesa\", \"cuadrada\"] # otra lista\n",
    "l2"
   ]
  },
  {
   "cell_type": "code",
   "execution_count": 87,
   "metadata": {},
   "outputs": [
    {
     "data": {
      "text/plain": [
       "[1, 2, 3, 4, 5, 'caballeros', 'mesa', 'cuadrada']"
      ]
     },
     "execution_count": 87,
     "metadata": {},
     "output_type": "execute_result"
    }
   ],
   "source": [
    "l3 = l1 + l2 # una tercera lista\n",
    "l3"
   ]
  },
  {
   "cell_type": "code",
   "execution_count": 88,
   "metadata": {},
   "outputs": [
    {
     "data": {
      "text/plain": [
       "'caballeros'"
      ]
     },
     "execution_count": 88,
     "metadata": {},
     "output_type": "execute_result"
    }
   ],
   "source": [
    "l3[5] # la posición del primer elemento es la 0"
   ]
  },
  {
   "cell_type": "code",
   "execution_count": 89,
   "metadata": {},
   "outputs": [
    {
     "data": {
      "text/plain": [
       "'cuadrada'"
      ]
     },
     "execution_count": 89,
     "metadata": {},
     "output_type": "execute_result"
    }
   ],
   "source": [
    "l3[-1] # con un índice negativo se cuenta desde el final de la lista"
   ]
  },
  {
   "cell_type": "markdown",
   "metadata": {
    "collapsed": true
   },
   "source": [
    "## Listas\n",
    "\n",
    "### Métodos sobre listas:\n",
    "\n",
    "* \\+ (concatenación)\n",
    "* \\* (repetición de la lista)\n",
    "* in, not in (está en)\n",
    "* cad[a] (elemento de una lista)\n",
    "* cad[a:b] (sublista)\n",
    "* cad[a:b:c] (sublista con salto !=1)\n",
    "* len(cad) (longitud de la lista)\n",
    "* min(cad) (elemento \"menor\")\n",
    "* max(cad) (elemento \"mayor)\n",
    "* comparativas lógicas (<, >, <=, >=, <>)"
   ]
  },
  {
   "cell_type": "code",
   "execution_count": 90,
   "metadata": {},
   "outputs": [
    {
     "data": {
      "text/plain": [
       "[1, 2, 3, 4, 5, 'caballeros', 'mesa', 'cuadrada']"
      ]
     },
     "execution_count": 90,
     "metadata": {},
     "output_type": "execute_result"
    }
   ],
   "source": [
    "l1 + l2"
   ]
  },
  {
   "cell_type": "code",
   "execution_count": 91,
   "metadata": {},
   "outputs": [
    {
     "data": {
      "text/plain": [
       "[1, 2, 3, 4, 5, 1, 2, 3, 4, 5, 1, 2, 3, 4, 5]"
      ]
     },
     "execution_count": 91,
     "metadata": {},
     "output_type": "execute_result"
    }
   ],
   "source": [
    "l1 * 3"
   ]
  },
  {
   "cell_type": "code",
   "execution_count": 92,
   "metadata": {},
   "outputs": [
    {
     "data": {
      "text/plain": [
       "False"
      ]
     },
     "execution_count": 92,
     "metadata": {},
     "output_type": "execute_result"
    }
   ],
   "source": [
    "'caballeros' in l1"
   ]
  },
  {
   "cell_type": "code",
   "execution_count": 93,
   "metadata": {},
   "outputs": [
    {
     "data": {
      "text/plain": [
       "True"
      ]
     },
     "execution_count": 93,
     "metadata": {},
     "output_type": "execute_result"
    }
   ],
   "source": [
    "'caballeros' in l2"
   ]
  },
  {
   "cell_type": "code",
   "execution_count": 94,
   "metadata": {},
   "outputs": [
    {
     "data": {
      "text/plain": [
       "'mesa'"
      ]
     },
     "execution_count": 94,
     "metadata": {},
     "output_type": "execute_result"
    }
   ],
   "source": [
    "l2[1]"
   ]
  },
  {
   "cell_type": "code",
   "execution_count": 95,
   "metadata": {},
   "outputs": [
    {
     "data": {
      "text/plain": [
       "[5, 'caballeros', 'mesa']"
      ]
     },
     "execution_count": 95,
     "metadata": {},
     "output_type": "execute_result"
    }
   ],
   "source": [
    "l3[4:7]"
   ]
  },
  {
   "cell_type": "code",
   "execution_count": 96,
   "metadata": {},
   "outputs": [
    {
     "data": {
      "text/plain": [
       "[5, 'caballeros', 'mesa']"
      ]
     },
     "execution_count": 96,
     "metadata": {},
     "output_type": "execute_result"
    }
   ],
   "source": [
    "l3[4:-1]"
   ]
  },
  {
   "cell_type": "code",
   "execution_count": 97,
   "metadata": {},
   "outputs": [
    {
     "data": {
      "text/plain": [
       "[3, 'caballeros']"
      ]
     },
     "execution_count": 97,
     "metadata": {},
     "output_type": "execute_result"
    }
   ],
   "source": [
    "l3[2:-1:3]"
   ]
  },
  {
   "cell_type": "code",
   "execution_count": 98,
   "metadata": {},
   "outputs": [
    {
     "data": {
      "text/plain": [
       "5"
      ]
     },
     "execution_count": 98,
     "metadata": {},
     "output_type": "execute_result"
    }
   ],
   "source": [
    "len(l1)"
   ]
  },
  {
   "cell_type": "code",
   "execution_count": 99,
   "metadata": {},
   "outputs": [
    {
     "data": {
      "text/plain": [
       "5"
      ]
     },
     "execution_count": 99,
     "metadata": {},
     "output_type": "execute_result"
    }
   ],
   "source": [
    "max(l1)"
   ]
  },
  {
   "cell_type": "code",
   "execution_count": 100,
   "metadata": {},
   "outputs": [
    {
     "data": {
      "text/plain": [
       "'caballeros'"
      ]
     },
     "execution_count": 100,
     "metadata": {},
     "output_type": "execute_result"
    }
   ],
   "source": [
    "min(l2)"
   ]
  },
  {
   "cell_type": "code",
   "execution_count": 101,
   "metadata": {},
   "outputs": [
    {
     "data": {
      "text/plain": [
       "False"
      ]
     },
     "execution_count": 101,
     "metadata": {},
     "output_type": "execute_result"
    }
   ],
   "source": [
    "l1 > l3"
   ]
  },
  {
   "cell_type": "markdown",
   "metadata": {
    "collapsed": true
   },
   "source": [
    "## Listas\n",
    "\n",
    "### Métodos sobre listas:\n",
    "\n",
    "* append(x): Añade un elemento al final de la lista. \n",
    "* extend(L): Amplia la lista añadiendo al final todos los elementos de la lista dada. \n",
    "* insert(i, x): Inserta un elemento en una posición dada. El primer argumento es el índice y el segundo argumento es el elemento a añadir.\n",
    "\n",
    "    - a.insert(0, x) inserta el elemento x como primer elemento de la lista a, y a.insert(len(a), x) es equivalente a a.append(x). \n",
    "* remove(x): Elimina el primer elemento de la lista cuyo valor es x. Se genera un error si no existe el elemento. \n",
    " "
   ]
  },
  {
   "cell_type": "code",
   "execution_count": 102,
   "metadata": {},
   "outputs": [
    {
     "data": {
      "text/plain": [
       "['Eric']"
      ]
     },
     "execution_count": 102,
     "metadata": {},
     "output_type": "execute_result"
    }
   ],
   "source": [
    "m = [\"Eric\"]\n",
    "m"
   ]
  },
  {
   "cell_type": "code",
   "execution_count": 103,
   "metadata": {},
   "outputs": [
    {
     "data": {
      "text/plain": [
       "['Eric', 'John']"
      ]
     },
     "execution_count": 103,
     "metadata": {},
     "output_type": "execute_result"
    }
   ],
   "source": [
    "m.append(\"John\")\n",
    "m"
   ]
  },
  {
   "cell_type": "code",
   "execution_count": 104,
   "metadata": {},
   "outputs": [
    {
     "data": {
      "text/plain": [
       "['Eric', 'John', 'Michael', 'Graham']"
      ]
     },
     "execution_count": 104,
     "metadata": {},
     "output_type": "execute_result"
    }
   ],
   "source": [
    "m.extend([\"Michael\", \"Graham\"])\n",
    "m"
   ]
  },
  {
   "cell_type": "code",
   "execution_count": 105,
   "metadata": {},
   "outputs": [
    {
     "data": {
      "text/plain": [
       "['Eric', 'John', 'Terry', 'Michael', 'Graham']"
      ]
     },
     "execution_count": 105,
     "metadata": {},
     "output_type": "execute_result"
    }
   ],
   "source": [
    "m.insert(2, \"Terry\")\n",
    "m"
   ]
  },
  {
   "cell_type": "code",
   "execution_count": 106,
   "metadata": {},
   "outputs": [
    {
     "data": {
      "text/plain": [
       "['spam', 'Eric', 'John', 'Terry', 'Michael', 'Graham']"
      ]
     },
     "execution_count": 106,
     "metadata": {},
     "output_type": "execute_result"
    }
   ],
   "source": [
    "m.insert(0, \"spam\")\n",
    "m"
   ]
  },
  {
   "cell_type": "code",
   "execution_count": 107,
   "metadata": {},
   "outputs": [
    {
     "data": {
      "text/plain": [
       "['spam', 'Eric', 'John', 'Terry', 'Michael', 'spam', 'Graham']"
      ]
     },
     "execution_count": 107,
     "metadata": {},
     "output_type": "execute_result"
    }
   ],
   "source": [
    "m.insert(-1, \"spam\")\n",
    "m"
   ]
  },
  {
   "cell_type": "markdown",
   "metadata": {},
   "source": [
    "## Listas\n",
    " \n",
    "### Métodos sobre listas:\n",
    "\n",
    "* pop([i]): Quita de la lista el elemento que ocupa la posición indicada y lo devuelve como resultado. Si no se especifica un índice, a.pop() extrae y devuelve el último elemento de la lista. \n",
    "* index(x): Devuelve el índice del primer elemento cuyo valor es x. Si no existe ese elemento se genera un error. \n",
    "* count(x): Devuelve el número de veces que aparece x en la lista. \n",
    "* sort(): Ordena los elementos de la lista, en su lugar (sin crear una lista nueva). \n",
    "* reverse(): Invierte los elementos de la lista, en su lugar (sin crear una lista nueva). "
   ]
  },
  {
   "cell_type": "markdown",
   "metadata": {},
   "source": [
    "## Tuplas\n",
    "\n",
    "* Secuencias NO modificables de objetos (no necesariamente del mismo tipo)\n",
    " \n",
    "* Muy parecidas a las listas pero no modificables.\n",
    "\n",
    "* Se pueden utilizar como claves para un diccionario."
   ]
  },
  {
   "cell_type": "code",
   "execution_count": 108,
   "metadata": {},
   "outputs": [
    {
     "data": {
      "text/plain": [
       "(1, 2, 3, 4, 5)"
      ]
     },
     "execution_count": 108,
     "metadata": {},
     "output_type": "execute_result"
    }
   ],
   "source": [
    "t1 = (1, 2, 3, 4, 5) # una tupla\n",
    "t1"
   ]
  },
  {
   "cell_type": "code",
   "execution_count": 109,
   "metadata": {},
   "outputs": [
    {
     "data": {
      "text/plain": [
       "('caballeros', 'mesa', 'cuadrada')"
      ]
     },
     "execution_count": 109,
     "metadata": {},
     "output_type": "execute_result"
    }
   ],
   "source": [
    "t2 = (\"caballeros\", \"mesa\", \"cuadrada\") # otra tupla\n",
    "t2"
   ]
  },
  {
   "cell_type": "code",
   "execution_count": 110,
   "metadata": {},
   "outputs": [
    {
     "data": {
      "text/plain": [
       "'mesa'"
      ]
     },
     "execution_count": 110,
     "metadata": {},
     "output_type": "execute_result"
    }
   ],
   "source": [
    "t2[1] # la posición del primer elemento es la 0"
   ]
  },
  {
   "cell_type": "code",
   "execution_count": 111,
   "metadata": {},
   "outputs": [
    {
     "data": {
      "text/plain": [
       "'cuadrada'"
      ]
     },
     "execution_count": 111,
     "metadata": {},
     "output_type": "execute_result"
    }
   ],
   "source": [
    "t2[-1] # con un índice negativo se cuenta desde el final de la lista"
   ]
  },
  {
   "cell_type": "code",
   "execution_count": 112,
   "metadata": {},
   "outputs": [
    {
     "ename": "TypeError",
     "evalue": "'tuple' object does not support item assignment",
     "output_type": "error",
     "traceback": [
      "\u001b[0;31m---------------------------------------------------------------------------\u001b[0m",
      "\u001b[0;31mTypeError\u001b[0m                                 Traceback (most recent call last)",
      "\u001b[0;32m<ipython-input-112-23e6a5aa4282>\u001b[0m in \u001b[0;36m<module>\u001b[0;34m()\u001b[0m\n\u001b[0;32m----> 1\u001b[0;31m \u001b[0mt2\u001b[0m\u001b[0;34m[\u001b[0m\u001b[0;36m1\u001b[0m\u001b[0;34m]\u001b[0m \u001b[0;34m=\u001b[0m \u001b[0;34m\"silla\"\u001b[0m\u001b[0;34m\u001b[0m\u001b[0m\n\u001b[0m",
      "\u001b[0;31mTypeError\u001b[0m: 'tuple' object does not support item assignment"
     ]
    }
   ],
   "source": [
    "t2[1] = \"silla\""
   ]
  },
  {
   "cell_type": "code",
   "execution_count": 113,
   "metadata": {},
   "outputs": [
    {
     "data": {
      "text/plain": [
       "tuple"
      ]
     },
     "execution_count": 113,
     "metadata": {},
     "output_type": "execute_result"
    }
   ],
   "source": [
    "a = (1, 2, \"tres\", 4, 5) # a es una tupla\n",
    "b = 1, 2, \"tres\", 4, 5 # b es una tupla\n",
    "c = () # c es una tupla\n",
    "type(c)"
   ]
  },
  {
   "cell_type": "code",
   "execution_count": 114,
   "metadata": {},
   "outputs": [
    {
     "data": {
      "text/plain": [
       "int"
      ]
     },
     "execution_count": 114,
     "metadata": {},
     "output_type": "execute_result"
    }
   ],
   "source": [
    "d = (5-4) # d NO es una tupla\n",
    "type(d)"
   ]
  },
  {
   "cell_type": "code",
   "execution_count": 115,
   "metadata": {},
   "outputs": [
    {
     "data": {
      "text/plain": [
       "tuple"
      ]
     },
     "execution_count": 115,
     "metadata": {},
     "output_type": "execute_result"
    }
   ],
   "source": [
    "e = (5-4,) # e SI es una tupla\n",
    "type(e)"
   ]
  },
  {
   "cell_type": "code",
   "execution_count": 116,
   "metadata": {},
   "outputs": [
    {
     "data": {
      "text/plain": [
       "tuple"
      ]
     },
     "execution_count": 116,
     "metadata": {},
     "output_type": "execute_result"
    }
   ],
   "source": [
    "f = 5-4, # f también es una tupla\n",
    "type(f)"
   ]
  },
  {
   "cell_type": "markdown",
   "metadata": {
    "collapsed": true
   },
   "source": [
    "## Diccionarios\n",
    "\n",
    "* Objetos indexados por clave y no por posición (hash)\n",
    "* Las claves deben ser objetos no modificables (números, cadenas, tuplas)\n",
    "* Los valores pueden ser cualquier objeto"
   ]
  },
  {
   "cell_type": "code",
   "execution_count": 117,
   "metadata": {},
   "outputs": [
    {
     "data": {
      "text/plain": [
       "{'Eric': 'Idle', 'Graham': 'Chapman', 'Terry': 'Gilliam'}"
      ]
     },
     "execution_count": 117,
     "metadata": {},
     "output_type": "execute_result"
    }
   ],
   "source": [
    "d = {} # un diccionario vacío\n",
    "d = {\"Graham\": \"Chapman\", \"Eric\": \"Idle\", \"Terry\": \"Gilliam\"}\n",
    "d"
   ]
  },
  {
   "cell_type": "code",
   "execution_count": 118,
   "metadata": {},
   "outputs": [
    {
     "data": {
      "text/plain": [
       "{'Eric': 'Idle', 'Graham': 'Chapman', 'John': 'Cleese', 'Terry': 'Gilliam'}"
      ]
     },
     "execution_count": 118,
     "metadata": {},
     "output_type": "execute_result"
    }
   ],
   "source": [
    "d[\"John\"] = \"Cleese\" # añadir un elemento al diccionario\n",
    "d"
   ]
  },
  {
   "cell_type": "code",
   "execution_count": 119,
   "metadata": {},
   "outputs": [
    {
     "data": {
      "text/plain": [
       "{'Eric': 'Idle', 'Graham': 'Chapman', 'John': 'Cleese', 'Terry': 'Jones'}"
      ]
     },
     "execution_count": 119,
     "metadata": {},
     "output_type": "execute_result"
    }
   ],
   "source": [
    "d[\"Terry\"] = \"Jones\" # si la clave ya existe se cambia el valor\n",
    "d"
   ]
  },
  {
   "cell_type": "markdown",
   "metadata": {
    "collapsed": true
   },
   "source": [
    "## Diccionarios\n",
    "\n",
    "Métodos sobre diccionarios:\n",
    "\n",
    "* get(k[,vdefecto]): devuelve el valor asociado a la clave k si existe, si no existe se devuelve vdefecto, si no se ha especificado se devuelve None. \n",
    "* setdefault(k[,vdefecto]): equivalente a get(k,d) pero asignando el valor vdefecto a la clave k si no existe ya en el diccionario.  \n",
    "* has_key(x): cierto si x es una clave del diccionario. \n",
    "* items(): devuelve una lista de pares (clave, valor). \n",
    "* keys(): devuelve una lista con las claves del diccionario. \n",
    "* values(): devuelve una lista con los valores del diccionario. \n",
    "* pop(k[,vdefecto]): borra la entrada con clave k del diccionario y devuelve el valor asociado a ella. Si la clave no existe se devuelve el valor vdefecto, si no se ha especificado se genera un KeyError. \n",
    "* popitem(): devuelve una tupla (clave, valor) y la borra del diccionario."
   ]
  },
  {
   "cell_type": "code",
   "execution_count": 120,
   "metadata": {},
   "outputs": [
    {
     "data": {
      "text/plain": [
       "False"
      ]
     },
     "execution_count": 120,
     "metadata": {},
     "output_type": "execute_result"
    }
   ],
   "source": [
    "\"Michael\" in d # buscar entre las claves de un diccionario"
   ]
  },
  {
   "cell_type": "code",
   "execution_count": 121,
   "metadata": {},
   "outputs": [
    {
     "data": {
      "text/plain": [
       "dict_keys(['Graham', 'Eric', 'Terry', 'John'])"
      ]
     },
     "execution_count": 121,
     "metadata": {},
     "output_type": "execute_result"
    }
   ],
   "source": [
    "d.keys() # las claves del diccionario"
   ]
  },
  {
   "cell_type": "code",
   "execution_count": 122,
   "metadata": {},
   "outputs": [
    {
     "data": {
      "text/plain": [
       "dict_values(['Chapman', 'Idle', 'Jones', 'Cleese'])"
      ]
     },
     "execution_count": 122,
     "metadata": {},
     "output_type": "execute_result"
    }
   ],
   "source": [
    "d.values() # los valores del diccionario"
   ]
  },
  {
   "cell_type": "code",
   "execution_count": 123,
   "metadata": {},
   "outputs": [
    {
     "data": {
      "text/plain": [
       "dict_items([('Graham', 'Chapman'), ('Eric', 'Idle'), ('Terry', 'Jones'), ('John', 'Cleese')])"
      ]
     },
     "execution_count": 123,
     "metadata": {},
     "output_type": "execute_result"
    }
   ],
   "source": [
    "d.items() # pares (clave, valor)"
   ]
  },
  {
   "cell_type": "code",
   "execution_count": 124,
   "metadata": {},
   "outputs": [
    {
     "name": "stdout",
     "output_type": "stream",
     "text": [
      "('Graham', 'Chapman')\n",
      "('Eric', 'Idle')\n",
      "('Terry', 'Jones')\n",
      "('John', 'Cleese')\n"
     ]
    }
   ],
   "source": [
    "for x in d.items():\n",
    "    print(x)"
   ]
  },
  {
   "cell_type": "code",
   "execution_count": 125,
   "metadata": {},
   "outputs": [
    {
     "ename": "KeyError",
     "evalue": "'Michael'",
     "output_type": "error",
     "traceback": [
      "\u001b[0;31m---------------------------------------------------------------------------\u001b[0m",
      "\u001b[0;31mKeyError\u001b[0m                                  Traceback (most recent call last)",
      "\u001b[0;32m<ipython-input-125-9f2f7ee33210>\u001b[0m in \u001b[0;36m<module>\u001b[0;34m()\u001b[0m\n\u001b[0;32m----> 1\u001b[0;31m \u001b[0md\u001b[0m\u001b[0;34m[\u001b[0m\u001b[0;34m\"Michael\"\u001b[0m\u001b[0;34m]\u001b[0m\u001b[0;34m\u001b[0m\u001b[0m\n\u001b[0m",
      "\u001b[0;31mKeyError\u001b[0m: 'Michael'"
     ]
    }
   ],
   "source": [
    "d[\"Michael\"]"
   ]
  },
  {
   "cell_type": "code",
   "execution_count": 126,
   "metadata": {
    "collapsed": true
   },
   "outputs": [],
   "source": [
    "d.get(\"Michael\")"
   ]
  },
  {
   "cell_type": "code",
   "execution_count": 127,
   "metadata": {},
   "outputs": [
    {
     "data": {
      "text/plain": [
       "'no está'"
      ]
     },
     "execution_count": 127,
     "metadata": {},
     "output_type": "execute_result"
    }
   ],
   "source": [
    "d.get(\"Michael\", \"no está\")"
   ]
  },
  {
   "cell_type": "code",
   "execution_count": 128,
   "metadata": {},
   "outputs": [
    {
     "data": {
      "text/plain": [
       "{'Eric': 'Idle', 'Graham': 'Chapman', 'John': 'Cleese', 'Terry': 'Jones'}"
      ]
     },
     "execution_count": 128,
     "metadata": {},
     "output_type": "execute_result"
    }
   ],
   "source": [
    "d"
   ]
  },
  {
   "cell_type": "code",
   "execution_count": 129,
   "metadata": {},
   "outputs": [
    {
     "data": {
      "text/plain": [
       "'Cleese'"
      ]
     },
     "execution_count": 129,
     "metadata": {},
     "output_type": "execute_result"
    }
   ],
   "source": [
    "d.setdefault(\"John\", \"no está\")"
   ]
  },
  {
   "cell_type": "code",
   "execution_count": 130,
   "metadata": {},
   "outputs": [
    {
     "data": {
      "text/plain": [
       "'no está'"
      ]
     },
     "execution_count": 130,
     "metadata": {},
     "output_type": "execute_result"
    }
   ],
   "source": [
    "d.get(\"Michael\", \"no está\")"
   ]
  },
  {
   "cell_type": "code",
   "execution_count": 131,
   "metadata": {},
   "outputs": [
    {
     "data": {
      "text/plain": [
       "'no está'"
      ]
     },
     "execution_count": 131,
     "metadata": {},
     "output_type": "execute_result"
    }
   ],
   "source": [
    "d.setdefault(\"Michael\", \"no está\")"
   ]
  },
  {
   "cell_type": "code",
   "execution_count": 132,
   "metadata": {},
   "outputs": [
    {
     "data": {
      "text/plain": [
       "{'Eric': 'Idle',\n",
       " 'Graham': 'Chapman',\n",
       " 'John': 'Cleese',\n",
       " 'Michael': 'no está',\n",
       " 'Terry': 'Jones'}"
      ]
     },
     "execution_count": 132,
     "metadata": {},
     "output_type": "execute_result"
    }
   ],
   "source": [
    "d"
   ]
  },
  {
   "cell_type": "markdown",
   "metadata": {},
   "source": [
    "## Listas\n",
    " \n",
    "### Matrices (lista de listas o diccionarios):\n",
    " \n",
    "* Python no tiene un tipo básico matriz. \n",
    "* Se puede simular una matriz creando una lista cuyos elementos sean otra lista.\n",
    "* Se puede simular con diccionarios accesibles por tuplas.\n",
    "* Muy fáciles de utilizar. \n",
    "* El tipo de datos de cada celda puede ser distinto. \n",
    "* Poco eficientes. \n",
    "* No necesariamente cuadradas. \n",
    "* Existen librerías para trabajar con matrices \"de verdad\" (numpy) "
   ]
  },
  {
   "cell_type": "markdown",
   "metadata": {},
   "source": [
    "## Listas\n",
    " \n",
    "### Matrices (lista de listas o diccionarios):\n",
    " \n",
    "* Python no tiene un tipo básico matriz. \n",
    "* Se puede simular una matriz creando una lista cuyos elementos sean otra lista.\n",
    "* Se puede simular con diccionarios accesibles por tuplas.\n",
    "\n",
    "> Ejemplo:\n",
    "\n",
    "\n",
    "| 23 | 17 |  8 | 13 |\n",
    "|---:|---:|---:|---:|\n",
    "| 25 | 18 |  5 | 12 |\n",
    "| 29 | 24 | 16 | 27 |"
   ]
  },
  {
   "cell_type": "code",
   "execution_count": 133,
   "metadata": {},
   "outputs": [
    {
     "name": "stdout",
     "output_type": "stream",
     "text": [
      " 23  17   8  13 \n",
      " 25  18   5  12 \n",
      " 29  24  16  27 \n"
     ]
    }
   ],
   "source": [
    "# Matriz como lista de listas\n",
    "\n",
    "M = [\n",
    "    [23, 17, 8, 13],\n",
    "    [25, 18, 5, 12],\n",
    "    [29, 24, 16, 27]\n",
    "    ]\n",
    "for i in range(len(M)):\n",
    "    for j in range(len(M[0])):\n",
    "        print(\"%3d\" % M[i][j], end=' ')\n",
    "    print()"
   ]
  },
  {
   "cell_type": "code",
   "execution_count": 134,
   "metadata": {},
   "outputs": [
    {
     "name": "stdout",
     "output_type": "stream",
     "text": [
      " 23  17   8  13 \n",
      " 25  18   5  12 \n",
      " 29  24  16  27 \n"
     ]
    }
   ],
   "source": [
    "# Matriz como diccionario accedido con tuplas\n",
    "\n",
    "M = {\n",
    "    (0, 0): 23, (0, 1): 17, (0, 2): 8, (0, 3): 13,\n",
    "    (1, 0): 25, (1, 1): 18, (1, 2): 5, (1, 3): 12,\n",
    "    (2, 0): 29, (2, 1): 24, (2, 2): 16, (2, 3): 27,\n",
    "    }\n",
    "for i in range(3):\n",
    "    for j in range(4):\n",
    "        print(\"%3d\" % M[i, j], end=' ') # Se puede acceder como: \"M[(i, j)]\" o simplemente M[i, j]\n",
    "    print()"
   ]
  },
  {
   "cell_type": "markdown",
   "metadata": {
    "collapsed": true
   },
   "source": [
    "## range (rangos)\n",
    " \n",
    "* ** range(stop)** ó **range(start, stop[, step])**: Crea un rango a partir de una progresión aritmética.\n",
    "\n",
    "    -Se suele utilizar en los bucles for. \n",
    "    \n",
    "    -Equivalente a xrange de Python 2."
   ]
  },
  {
   "cell_type": "code",
   "execution_count": 135,
   "metadata": {},
   "outputs": [
    {
     "data": {
      "text/plain": [
       "range(1, 11)"
      ]
     },
     "execution_count": 135,
     "metadata": {},
     "output_type": "execute_result"
    }
   ],
   "source": [
    "range(1, 11)"
   ]
  },
  {
   "cell_type": "code",
   "execution_count": 136,
   "metadata": {},
   "outputs": [
    {
     "data": {
      "text/plain": [
       "[1, 2, 3, 4, 5, 6, 7, 8, 9, 10]"
      ]
     },
     "execution_count": 136,
     "metadata": {},
     "output_type": "execute_result"
    }
   ],
   "source": [
    "list(range(1, 11))"
   ]
  },
  {
   "cell_type": "code",
   "execution_count": 137,
   "metadata": {},
   "outputs": [
    {
     "data": {
      "text/plain": [
       "[0, -1, -2, -3, -4, -5, -6, -7, -8, -9]"
      ]
     },
     "execution_count": 137,
     "metadata": {},
     "output_type": "execute_result"
    }
   ],
   "source": [
    "list(range(0, -10, -1))"
   ]
  },
  {
   "cell_type": "code",
   "execution_count": 138,
   "metadata": {},
   "outputs": [
    {
     "data": {
      "text/plain": [
       "[0, -2, -4, -6, -8]"
      ]
     },
     "execution_count": 138,
     "metadata": {},
     "output_type": "execute_result"
    }
   ],
   "source": [
    "list(range(0, -10, -2))"
   ]
  },
  {
   "cell_type": "markdown",
   "metadata": {},
   "source": [
    "# Lógica en Python. Condición\n",
    "\n",
    "* Cualquier valor distinto de **None**, **0**, **''**, **[]** ó **{}** es cierto. \n",
    "\n",
    "* Existe el tipo de datos **bool** y las constantes **True** y **False**.\n",
    "\n",
    "* Lógica de cortocircuito.\n",
    "\n",
    "* Comparaciones: \n",
    "\n",
    "        - Operadores de comparación: ==, >, >=, <, <=, !=, <> \n",
    "\n",
    "        - Conectivas lógicas: and, or, not \n",
    "\n",
    "        - Comparaciones múltiples: 10 <= a <= 20 "
   ]
  },
  {
   "cell_type": "code",
   "execution_count": 139,
   "metadata": {},
   "outputs": [
    {
     "data": {
      "text/plain": [
       "False"
      ]
     },
     "execution_count": 139,
     "metadata": {},
     "output_type": "execute_result"
    }
   ],
   "source": [
    "3 > 4 and 10/0 == 2"
   ]
  },
  {
   "cell_type": "code",
   "execution_count": 140,
   "metadata": {},
   "outputs": [
    {
     "ename": "ZeroDivisionError",
     "evalue": "division by zero",
     "output_type": "error",
     "traceback": [
      "\u001b[0;31m---------------------------------------------------------------------------\u001b[0m",
      "\u001b[0;31mZeroDivisionError\u001b[0m                         Traceback (most recent call last)",
      "\u001b[0;32m<ipython-input-140-bdc5bab76594>\u001b[0m in \u001b[0;36m<module>\u001b[0;34m()\u001b[0m\n\u001b[0;32m----> 1\u001b[0;31m \u001b[0;36m3\u001b[0m \u001b[0;34m>\u001b[0m \u001b[0;36m4\u001b[0m \u001b[0;32mor\u001b[0m \u001b[0;36m10\u001b[0m\u001b[0;34m/\u001b[0m\u001b[0;36m0\u001b[0m \u001b[0;34m==\u001b[0m \u001b[0;36m2\u001b[0m\u001b[0;34m\u001b[0m\u001b[0m\n\u001b[0m",
      "\u001b[0;31mZeroDivisionError\u001b[0m: division by zero"
     ]
    }
   ],
   "source": [
    "3 > 4 or 10/0 == 2"
   ]
  },
  {
   "cell_type": "markdown",
   "metadata": {},
   "source": [
    "## Lógica en Python. if"
   ]
  },
  {
   "cell_type": "raw",
   "metadata": {},
   "source": [
    "if condición1:\n",
    "    bloque_si_condición1_cierto\n",
    "elif condición2:\n",
    "    bloque_si_condición1_falsa_y_condición2_cierta\n",
    "elif condición3:\n",
    "    bloque_si_condición1_falsa_condición2_falsa_y_condición3_cierta\n",
    "else:\n",
    "    bloque_si_todas_condiciones_falsas"
   ]
  },
  {
   "cell_type": "markdown",
   "metadata": {},
   "source": [
    "## Bucles. for"
   ]
  },
  {
   "cell_type": "code",
   "execution_count": 141,
   "metadata": {},
   "outputs": [
    {
     "name": "stdout",
     "output_type": "stream",
     "text": [
      "uno\n",
      "dos\n",
      "tres\n",
      "probando\n"
     ]
    }
   ],
   "source": [
    "\"\"\"\n",
    "for variable in secuencia:\n",
    "    bloque_1\n",
    "else:\n",
    "    bloque_si_no_se_sale_con_break\n",
    "\"\"\"\n",
    "\n",
    "for x in [\"uno\", \"dos\", \"tres\", \"probando\"]:\n",
    "    print(x)"
   ]
  },
  {
   "cell_type": "code",
   "execution_count": 142,
   "metadata": {},
   "outputs": [
    {
     "name": "stdout",
     "output_type": "stream",
     "text": [
      "dime un número:11\n",
      "11 es un número primo\n"
     ]
    }
   ],
   "source": [
    "n = int(input(\"dime un número:\"))\n",
    "es_primo = True\n",
    "for x in range(2, n):\n",
    "    if n % x == 0:\n",
    "        print(n, \"es igual a\", x, \"*\", n//x)\n",
    "        es_primo = False\n",
    "        break\n",
    "if es_primo:\n",
    "    print(n, \"es un número primo\")"
   ]
  },
  {
   "cell_type": "code",
   "execution_count": 143,
   "metadata": {},
   "outputs": [
    {
     "name": "stdout",
     "output_type": "stream",
     "text": [
      "dime un número:11\n",
      "11 es un número primo\n"
     ]
    }
   ],
   "source": [
    "n = int(input(\"dime un número:\"))\n",
    "for x in range(2, n):\n",
    "    if n % x == 0:\n",
    "        print(n, \"es igual a\", x, \"*\", n//x)\n",
    "        break\n",
    "else:\n",
    "    print(n, \"es un número primo\")"
   ]
  },
  {
   "cell_type": "markdown",
   "metadata": {},
   "source": [
    "## Bucles. while"
   ]
  },
  {
   "cell_type": "code",
   "execution_count": 144,
   "metadata": {},
   "outputs": [
    {
     "name": "stdout",
     "output_type": "stream",
     "text": [
      "¿Quién viene a la fiesta? Pedro\n",
      "Pedro, muy bien\n",
      "¿Quién viene a la fiesta? Aitana\n",
      "Aitana, muy bien\n",
      "¿Quién viene a la fiesta? padres\n",
      "Cancelamos la fiesta\n"
     ]
    }
   ],
   "source": [
    "seguir = True\n",
    "while seguir:\n",
    "    nombre = input(\"¿Quién viene a la fiesta? \")\n",
    "    if nombre == \"padres\":\n",
    "        print(\"Cancelamos la fiesta\")\n",
    "        break\n",
    "    elif nombre == \"\":\n",
    "        print(\"Ya estan todos\")\n",
    "        seguir = False\n",
    "    else:\n",
    "        print(\"%s, muy bien\" % nombre)\n",
    "else:\n",
    "    print(\"¡Será una fiesta divertida! \")"
   ]
  },
  {
   "cell_type": "markdown",
   "metadata": {},
   "source": [
    "## **del**. Borrando en python"
   ]
  },
  {
   "cell_type": "code",
   "execution_count": 145,
   "metadata": {},
   "outputs": [
    {
     "data": {
      "text/plain": [
       "10"
      ]
     },
     "execution_count": 145,
     "metadata": {},
     "output_type": "execute_result"
    }
   ],
   "source": [
    "v = 10 # crear una variable y asignarle un valor\n",
    "v"
   ]
  },
  {
   "cell_type": "code",
   "execution_count": 146,
   "metadata": {},
   "outputs": [
    {
     "ename": "NameError",
     "evalue": "name 'v' is not defined",
     "output_type": "error",
     "traceback": [
      "\u001b[0;31m---------------------------------------------------------------------------\u001b[0m",
      "\u001b[0;31mNameError\u001b[0m                                 Traceback (most recent call last)",
      "\u001b[0;32m<ipython-input-146-7154977750c1>\u001b[0m in \u001b[0;36m<module>\u001b[0;34m()\u001b[0m\n\u001b[1;32m      1\u001b[0m \u001b[0;32mdel\u001b[0m \u001b[0mv\u001b[0m \u001b[0;31m# borramos la variable\u001b[0m\u001b[0;34m\u001b[0m\u001b[0m\n\u001b[0;32m----> 2\u001b[0;31m \u001b[0mv\u001b[0m\u001b[0;34m\u001b[0m\u001b[0m\n\u001b[0m",
      "\u001b[0;31mNameError\u001b[0m: name 'v' is not defined"
     ]
    }
   ],
   "source": [
    "del v # borramos la variable\n",
    "v"
   ]
  },
  {
   "cell_type": "code",
   "execution_count": 147,
   "metadata": {},
   "outputs": [
    {
     "data": {
      "text/plain": [
       "['huevos', 'salchicha', 'spam']"
      ]
     },
     "execution_count": 147,
     "metadata": {},
     "output_type": "execute_result"
    }
   ],
   "source": [
    "l = [\"huevos\", \"salchicha\", \"tocino\", \"spam\"]\n",
    "del l[2] # borrar elementos de una lista por su posición\n",
    "l\n",
    "['huevos', 'salchicha', 'spam']"
   ]
  },
  {
   "cell_type": "code",
   "execution_count": 148,
   "metadata": {},
   "outputs": [
    {
     "data": {
      "text/plain": [
       "{'Eric': 'Idle', 'Graham': 'Chapman', 'Terry': 'Gilliam'}"
      ]
     },
     "execution_count": 148,
     "metadata": {},
     "output_type": "execute_result"
    }
   ],
   "source": [
    "d = {\"Graham\": \"Chapman\", \"Eric\": \"Idle\", \"Terry\": \"Gilliam\"}\n",
    "d"
   ]
  },
  {
   "cell_type": "code",
   "execution_count": 149,
   "metadata": {},
   "outputs": [
    {
     "data": {
      "text/plain": [
       "{'Graham': 'Chapman', 'Terry': 'Gilliam'}"
      ]
     },
     "execution_count": 149,
     "metadata": {},
     "output_type": "execute_result"
    }
   ],
   "source": [
    "del d[\"Eric\"] # borrar elementos de un diccionario por clave\n",
    "d"
   ]
  },
  {
   "cell_type": "markdown",
   "metadata": {},
   "source": [
    "## Ficheros.\n",
    "\n",
    "Abrir un fichero:\n",
    "\n",
    "* f = open(ruta[, modo][, ...])\n",
    "\n",
    "* modo puede ser, estre otros: \"r\", \"w\", \"a\" para leer, escribir o añadir.\n",
    "    - Si el modo es \"r\" y el fichero no existe, se genera un error.\n",
    "     - Si el modo es \"w\" o \"a\" y el fichero no existe, se crea.\n",
    "     - Añadiendo una \"U\" al modo se abre el fichero con soporte universal de salto de línea; todos los saltos de línea serán \"\\n\" independientemente del SO utilizado para guardar el fichero. No aplicable a \"w\".\n",
    "\n",
    "Cerrar un fichero:\n",
    "\n",
    "* f.close()"
   ]
  },
  {
   "cell_type": "markdown",
   "metadata": {},
   "source": [
    "## Ficheros\n",
    " \n",
    "Métodos sobre ficheros:\n",
    "\n",
    "* close(): cierra el fichero. \n",
    "* read([tamaño]): devuelve una cadena con todo el contenido del fichero. \n",
    "* readline([tamaño]): devuelve una cadena con una línea del fichero. \n",
    "* readlines([tamaño]): devuelve una lista de cadenas con todas las líneas del fichero.\n",
    "* seek(desplaza[, desde]): desplaza el fichero a una nueva posición.  \n",
    "* tell(): devuelve la posición actual del fichero. \n",
    "* truncate([tamaño]): trunca el fichero dejándolo en tamaño bytes. Por defecto trunca hasta la posición actual del fichero.\n",
    "* write(cadena): escribe la cadena en el fichero. \n",
    "* writelines(secuencia_de_cadenas): escribe la secuencia de cadenas en el fichero. "
   ]
  },
  {
   "cell_type": "code",
   "execution_count": 150,
   "metadata": {},
   "outputs": [
    {
     "data": {
      "text/plain": [
       "'Egg and Bacon;\\nEgg, sausage and Bacon;\\nEgg and Spam;\\nSpam Egg Sausage and Spam;\\nEgg, Bacon and Spam;\\nEgg, Bacon, sausage and Spam;\\nSpam, Bacon, sausage and Spam;\\nSpam, Egg, Spam, Spam, Bacon and Spam;\\nSpam, Spam, Spam, Egg and Spam;\\nSpam, Spam, Spam, Spam, Spam, Spam, Spam, baked beans, Spam, Spam, Spam and Spam;\\nLobster Thermidor aux crevettes with a Mornay sauce, garnished with truffle pate, brandy and a fried egg on top and Spam\\n'"
      ]
     },
     "execution_count": 150,
     "metadata": {},
     "output_type": "execute_result"
    }
   ],
   "source": [
    "fichero = open(\"spam.txt\", \"r\")\n",
    "c = fichero.read()         # todo el fichero en una cadena\n",
    "c"
   ]
  },
  {
   "cell_type": "code",
   "execution_count": 151,
   "metadata": {},
   "outputs": [
    {
     "data": {
      "text/plain": [
       "['Egg and Bacon;',\n",
       " 'Egg, sausage and Bacon;',\n",
       " 'Egg and Spam;',\n",
       " 'Spam Egg Sausage and Spam;',\n",
       " 'Egg, Bacon and Spam;',\n",
       " 'Egg, Bacon, sausage and Spam;',\n",
       " 'Spam, Bacon, sausage and Spam;',\n",
       " 'Spam, Egg, Spam, Spam, Bacon and Spam;',\n",
       " 'Spam, Spam, Spam, Egg and Spam;',\n",
       " 'Spam, Spam, Spam, Spam, Spam, Spam, Spam, baked beans, Spam, Spam, Spam and Spam;',\n",
       " 'Lobster Thermidor aux crevettes with a Mornay sauce, garnished with truffle pate, brandy and a fried egg on top and Spam',\n",
       " '']"
      ]
     },
     "execution_count": 151,
     "metadata": {},
     "output_type": "execute_result"
    }
   ],
   "source": [
    "c.split('\\n')"
   ]
  },
  {
   "cell_type": "code",
   "execution_count": 152,
   "metadata": {},
   "outputs": [
    {
     "data": {
      "text/plain": [
       "['Egg and Bacon;\\n',\n",
       " 'Egg, sausage and Bacon;\\n',\n",
       " 'Egg and Spam;\\n',\n",
       " 'Spam Egg Sausage and Spam;\\n',\n",
       " 'Egg, Bacon and Spam;\\n',\n",
       " 'Egg, Bacon, sausage and Spam;\\n',\n",
       " 'Spam, Bacon, sausage and Spam;\\n',\n",
       " 'Spam, Egg, Spam, Spam, Bacon and Spam;\\n',\n",
       " 'Spam, Spam, Spam, Egg and Spam;\\n',\n",
       " 'Spam, Spam, Spam, Spam, Spam, Spam, Spam, baked beans, Spam, Spam, Spam and Spam;\\n',\n",
       " 'Lobster Thermidor aux crevettes with a Mornay sauce, garnished with truffle pate, brandy and a fried egg on top and Spam\\n']"
      ]
     },
     "execution_count": 152,
     "metadata": {},
     "output_type": "execute_result"
    }
   ],
   "source": [
    "fichero.seek(0,0)  #  nos ponemos al principio del fichero\n",
    "l2 = fichero.readlines() # todo el fichero en una lista\n",
    "l2"
   ]
  },
  {
   "cell_type": "code",
   "execution_count": 153,
   "metadata": {},
   "outputs": [
    {
     "data": {
      "text/plain": [
       "['Egg and Bacon;\\n',\n",
       " 'Egg, sausage and Bacon;\\n',\n",
       " 'Egg and Spam;\\n',\n",
       " 'Spam Egg Sausage and Spam;\\n',\n",
       " 'Egg, Bacon and Spam;\\n',\n",
       " 'Egg, Bacon, sausage and Spam;\\n',\n",
       " 'Spam, Bacon, sausage and Spam;\\n',\n",
       " 'Spam, Egg, Spam, Spam, Bacon and Spam;\\n',\n",
       " 'Spam, Spam, Spam, Egg and Spam;\\n',\n",
       " 'Spam, Spam, Spam, Spam, Spam, Spam, Spam, baked beans, Spam, Spam, Spam and Spam;\\n',\n",
       " 'Lobster Thermidor aux crevettes with a Mornay sauce, garnished with truffle pate, brandy and a fried egg on top and Spam\\n']"
      ]
     },
     "execution_count": 153,
     "metadata": {},
     "output_type": "execute_result"
    }
   ],
   "source": [
    "fichero.seek(0,0) # otra vez al principio\n",
    "l3 = []\n",
    "for c in fichero:\n",
    "    l3.append(c)\n",
    "l3"
   ]
  },
  {
   "cell_type": "markdown",
   "metadata": {},
   "source": [
    "## Funciones\n",
    "\n",
    "* No hay procedimientos en Python: Todas las funciones devuelven un valor, aunque puede ser None. \n",
    "\n",
    "* Existen funciones sin nombre: lambda (no en python 3). \n",
    "\n",
    "* Se pueden documentar con una cadena que estará disponible en tiempo de ejecución. \n",
    "\n",
    "* Dentro de una función se puede referenciar a las variables globales pero no asignarles valores sino se \"declaran\" como globales previamente. \n",
    "\n",
    "* El paso de parámetros siempre es por valor. El valor es la referencia al objeto ;-). \n",
    "\n",
    "* Pueden tener parámetros con valores por defecto. \n",
    "\n",
    "* Se puede referenciar a los parámetros por su nombre. \n",
    "\n",
    "* Lista y diccionarios de parámetros. "
   ]
  },
  {
   "cell_type": "code",
   "execution_count": 154,
   "metadata": {
    "collapsed": true
   },
   "outputs": [],
   "source": [
    "def hola():\n",
    "    \"\"\"\n",
    "    hola()\n",
    "    saluda al mundo\n",
    "    \"\"\"\n",
    "    print(\"hola mundo!\")\n",
    "\n",
    "    \n",
    "def producto(x,y):\n",
    "    \"\"\"\n",
    "    producto(x,y): -> x*y\n",
    "    calcula el producto de dos 'números'\n",
    "    \"\"\"\n",
    "    return x * y    \n",
    "\n",
    "\n",
    "def producto1(x, y):\n",
    "    resultado = x * y\n",
    "    return resultado\n",
    "\n",
    "\n",
    "def producto2(x, y=2):\n",
    "    r = x * y\n",
    "    print(x, \"*\", y, \"=\", r)\n",
    "\n",
    "    \n",
    "def producto3(x, y, z):\n",
    "    resultado = x * y + z\n",
    "    return resultado"
   ]
  },
  {
   "cell_type": "code",
   "execution_count": 155,
   "metadata": {},
   "outputs": [
    {
     "data": {
      "text/plain": [
       "10"
      ]
     },
     "execution_count": 155,
     "metadata": {},
     "output_type": "execute_result"
    }
   ],
   "source": [
    "producto3(2, 3 , 4)"
   ]
  },
  {
   "cell_type": "code",
   "execution_count": 156,
   "metadata": {},
   "outputs": [
    {
     "data": {
      "text/plain": [
       "11"
      ]
     },
     "execution_count": 156,
     "metadata": {},
     "output_type": "execute_result"
    }
   ],
   "source": [
    "producto3(y=2, z=3, x=4)"
   ]
  },
  {
   "cell_type": "code",
   "execution_count": 157,
   "metadata": {
    "collapsed": true
   },
   "outputs": [],
   "source": [
    "def muestra(x,y,z):\n",
    "    print(x, y, z)"
   ]
  },
  {
   "cell_type": "code",
   "execution_count": 158,
   "metadata": {},
   "outputs": [
    {
     "name": "stdout",
     "output_type": "stream",
     "text": [
      "10 20 30\n"
     ]
    }
   ],
   "source": [
    "muestra(10, 20, 30)"
   ]
  },
  {
   "cell_type": "code",
   "execution_count": 159,
   "metadata": {},
   "outputs": [
    {
     "name": "stdout",
     "output_type": "stream",
     "text": [
      "hola 20 spam\n",
      "hola 20 spam\n",
      "hola 20 spam\n"
     ]
    }
   ],
   "source": [
    "a = ['hola', 20, 'spam']\n",
    "muestra(*a) # una lista como parámetros\n",
    "\n",
    "b = {'x': 'hola', 'y': 20, 'z': 'spam'}\n",
    "muestra(**b) # un diccionario como parámetros\n",
    "\n",
    "c = {'y': 20, 'z': 'spam'}\n",
    "muestra('hola', **c) # un diccionario como parte de los parámetros "
   ]
  },
  {
   "cell_type": "markdown",
   "metadata": {
    "collapsed": true
   },
   "source": [
    "## Módulos"
   ]
  },
  {
   "cell_type": "code",
   "execution_count": 160,
   "metadata": {},
   "outputs": [
    {
     "name": "stdout",
     "output_type": "stream",
     "text": [
      "Help on module mates:\n",
      "\n",
      "NAME\n",
      "    mates\n",
      "\n",
      "DESCRIPTION\n",
      "    Esta es la cadena de documentación del módulo \"mates\"\n",
      "    TODO: documentarla mejor\n",
      "\n",
      "FUNCTIONS\n",
      "    producto(x, y)\n",
      "        producto(x,y): -> x*y\n",
      "        calcula el producto de dos \"números\"\n",
      "\n",
      "FILE\n",
      "    /home/lhurtado/Dropbox/dades/docencia/SAR/2017-2018/practiques/0_intro/mates.py\n",
      "\n",
      "\n",
      "30\n",
      "30\n",
      "\n",
      "        producto(x,y): -> x*y\n",
      "        calcula el producto de dos \"números\"\n",
      "        \n",
      "\n",
      "Esta es la cadena de documentación del módulo \"mates\"\n",
      "TODO: documentarla mejor\n",
      "\n"
     ]
    }
   ],
   "source": [
    "#importamos el módulo\n",
    "\n",
    "import mates\n",
    "\n",
    "help(mates)\n",
    "prd = mates.producto\n",
    "print(mates.producto(10,3))\n",
    "print(prd(10, 3))\n",
    "print(mates.producto.__doc__)\n",
    "print(mates.__doc__)"
   ]
  },
  {
   "cell_type": "code",
   "execution_count": 161,
   "metadata": {},
   "outputs": [
    {
     "name": "stdout",
     "output_type": "stream",
     "text": [
      "30\n",
      "\n",
      "        producto(x,y): -> x*y\n",
      "        calcula el producto de dos \"números\"\n",
      "        \n",
      "\n",
      "Esta es la cadena de documentación del módulo \"mates\"\n",
      "TODO: documentarla mejor\n",
      "\n"
     ]
    }
   ],
   "source": [
    "# Otra forma alternativa\n",
    "\n",
    "from mates import *\n",
    "\n",
    "print(producto(10,3))\n",
    "print(producto.__doc__)\n",
    "print(mates.__doc__)"
   ]
  },
  {
   "cell_type": "markdown",
   "metadata": {},
   "source": [
    "## Clases"
   ]
  },
  {
   "cell_type": "raw",
   "metadata": {},
   "source": [
    "class nombreClase:\n",
    "    def __init__(self, …):\n",
    "                   …\n",
    "    def __del__(self):\n",
    "                   …\n",
    "                   \n",
    "obj = nombreClase(<parametros del __init__ sin self>)\n",
    "obj.metodo(…)\n",
    "type(obj)\n",
    "dir(obj)"
   ]
  },
  {
   "cell_type": "markdown",
   "metadata": {},
   "source": [
    "## Clases. herencia"
   ]
  },
  {
   "cell_type": "raw",
   "metadata": {},
   "source": [
    "class nombreClase (claseBase1, claseBase2, ...):\n",
    "    def __init__(self, …):\n",
    "        super(claseBase1, self).__init__(...)\n",
    "                    …\n",
    "    def __del__(self):\n",
    "                    …                   "
   ]
  },
  {
   "cell_type": "markdown",
   "metadata": {
    "collapsed": true
   },
   "source": [
    "## Conjuntos. set\n",
    "\n",
    "### Operadores: \n",
    "\n",
    "* set(): constructor.\n",
    "* s.add(x)\n",
    "\n",
    "\n",
    "* s.issubset(t)\n",
    "* s.issuperset(t)\n",
    "* s.union(t)\n",
    "* s.intersection(t)\n",
    "* s.difference(t)\n",
    "* s.symmetric_difference(t)\n",
    "* s.copy()\n",
    "\n",
    "\n",
    "* len(s)\n",
    "* x in s\n",
    "* x not in s\n",
    "\n",
    "\n"
   ]
  },
  {
   "cell_type": "code",
   "execution_count": 162,
   "metadata": {},
   "outputs": [
    {
     "name": "stdout",
     "output_type": "stream",
     "text": [
      "{1, 2, 3}\n",
      "{3, 4, 5}\n"
     ]
    }
   ],
   "source": [
    "a = set()\n",
    "a.add(1)\n",
    "a.add(2)\n",
    "a.add(3)\n",
    "a.add(2)\n",
    "b = set([3,4,5])\n",
    "print(a)\n",
    "print(b)"
   ]
  },
  {
   "cell_type": "code",
   "execution_count": 163,
   "metadata": {},
   "outputs": [
    {
     "data": {
      "text/plain": [
       "3"
      ]
     },
     "execution_count": 163,
     "metadata": {},
     "output_type": "execute_result"
    }
   ],
   "source": [
    "len(a)"
   ]
  },
  {
   "cell_type": "code",
   "execution_count": 164,
   "metadata": {},
   "outputs": [
    {
     "data": {
      "text/plain": [
       "False"
      ]
     },
     "execution_count": 164,
     "metadata": {},
     "output_type": "execute_result"
    }
   ],
   "source": [
    "5 in a"
   ]
  },
  {
   "cell_type": "code",
   "execution_count": 165,
   "metadata": {},
   "outputs": [
    {
     "data": {
      "text/plain": [
       "True"
      ]
     },
     "execution_count": 165,
     "metadata": {},
     "output_type": "execute_result"
    }
   ],
   "source": [
    "2 in a"
   ]
  },
  {
   "cell_type": "code",
   "execution_count": 166,
   "metadata": {},
   "outputs": [
    {
     "data": {
      "text/plain": [
       "{1, 2, 3, 4, 8, 9}"
      ]
     },
     "execution_count": 166,
     "metadata": {},
     "output_type": "execute_result"
    }
   ],
   "source": [
    "a.union([4, 8, 2, 9])"
   ]
  },
  {
   "cell_type": "code",
   "execution_count": 167,
   "metadata": {},
   "outputs": [
    {
     "data": {
      "text/plain": [
       "{2}"
      ]
     },
     "execution_count": 167,
     "metadata": {},
     "output_type": "execute_result"
    }
   ],
   "source": [
    "a.intersection([4, 8, 2, 9])"
   ]
  },
  {
   "cell_type": "markdown",
   "metadata": {
    "collapsed": true
   },
   "source": [
    "## copy y deepcopy. Copiando objetos"
   ]
  },
  {
   "cell_type": "code",
   "execution_count": 168,
   "metadata": {},
   "outputs": [
    {
     "name": "stdout",
     "output_type": "stream",
     "text": [
      "139869374693448 139869374693448 139869374539080\n",
      "-----\n",
      "139869374537800 139869374537800 139869374537800\n"
     ]
    }
   ],
   "source": [
    "a = [1, 2, [3, [\"el tres\"], \"otro tres\"], 4, 5]\n",
    "b = a # b apuntan al mismo objeto que a\n",
    "c = a[:] # c es una nueva lista\n",
    "print(id(a), id(b), id(c))\n",
    "print('-'*5)\n",
    "print(id(a[2]), id(b[2]), id(c[2])) # pero los elementos de a, b y c son los mismos"
   ]
  },
  {
   "cell_type": "code",
   "execution_count": 169,
   "metadata": {},
   "outputs": [
    {
     "name": "stdout",
     "output_type": "stream",
     "text": [
      "139869374693448 139869374539784 139869374540104\n",
      "-----\n",
      "139869374537800 139869374537800 139869374541640\n"
     ]
    }
   ],
   "source": [
    "from copy import copy, deepcopy # importamos las funciones de copia\n",
    "d = copy(a) # una copia superficial de a\n",
    "e = deepcopy(a) # una copia en profundidad de a\n",
    "print(id(a), id(d), id(e))\n",
    "print('-'*5)\n",
    "print(id(a[2]),id(d[2]),id(e[2]))"
   ]
  },
  {
   "cell_type": "markdown",
   "metadata": {
    "collapsed": true
   },
   "source": [
    "# Programación funcional\n",
    "\n",
    "* Listas autodefinidas (List comprehensions) \n",
    "\n",
    "* Expresiones generadoras \n",
    "\n",
    "* Funciones anónimas: lambda \n",
    "\n",
    "* filter \n",
    "\n",
    "* map \n",
    "\n",
    "* reduce "
   ]
  },
  {
   "cell_type": "markdown",
   "metadata": {
    "collapsed": true
   },
   "source": [
    "# Alguna cosita más\n",
    "\n",
    "\n",
    "* help()\n",
    "\n",
    "* pass \n",
    "\n",
    "* sorted()\n",
    "\n",
    "* reversed() \n",
    "\n",
    "* raise  \n",
    "\n",
    "* Una función es una variable \n",
    "\n",
    "* Herencia en tiempo de ejecución "
   ]
  },
  {
   "cell_type": "markdown",
   "metadata": {
    "collapsed": true
   },
   "source": [
    "## Enlaces Interesantes\n",
    "\n",
    "\n",
    "* http://www.python.org/\n",
    "\n",
    "* http://docs.python.org/3.5/\n",
    "\n",
    "* http://wiki.python.org/\n",
    "\n",
    "* http://www.diveintopython3.net/\n",
    "\n",
    "\n",
    "\n",
    "* https://www.python.org/dev/peps/pep-0008/\n",
    "\n",
    "* http://mundogeek.net/traducciones/guia-estilo-python.htm\n",
    "\n",
    "\n",
    "* https://google.github.io/styleguide/pyguide.html\n",
    "\n",
    "\n",
    "* http://www.montypython.com/\n"
   ]
  },
  {
   "cell_type": "markdown",
   "metadata": {},
   "source": [
    "### Sistemas de Almacenamiento y Recuperación de Información\n",
    "\n",
    "*Lluís F. Hurtado* (lhurtado at dsic.upv.es)"
   ]
  }
 ],
 "metadata": {
  "celltoolbar": "Slideshow",
  "kernelspec": {
   "display_name": "Python 3",
   "language": "python",
   "name": "python3"
  },
  "language_info": {
   "codemirror_mode": {
    "name": "ipython",
    "version": 3
   },
   "file_extension": ".py",
   "mimetype": "text/x-python",
   "name": "python",
   "nbconvert_exporter": "python",
   "pygments_lexer": "ipython3",
   "version": "3.6.1"
  }
 },
 "nbformat": 4,
 "nbformat_minor": 1
}
